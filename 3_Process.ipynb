{
 "cells": [
  {
   "cell_type": "markdown",
   "metadata": {},
   "source": [
    "# Processing of a list of images"
   ]
  },
  {
   "cell_type": "markdown",
   "metadata": {},
   "source": [
    "Select a result folder with the list of image files to process."
   ]
  },
  {
   "cell_type": "code",
   "execution_count": null,
   "metadata": {},
   "outputs": [],
   "source": [
    "import yaml\n",
    "from pathlib import Path\n",
    "from ipyfilechooser import FileChooser\n",
    "\n",
    "srcdir, dstdir = \"\", \"\"\n",
    "if Path(\"config.yml\").exists():\n",
    "    with open(\"config.yml\", \"r\") as file:\n",
    "        config = yaml.safe_load(file)\n",
    "        if \"source\" in config.keys():\n",
    "            srcdir = Path(config[\"source\"])\n",
    "        if \"destination\" in config.keys():\n",
    "            dstdir = Path(config[\"destination\"])\n",
    "\n",
    "fc = FileChooser(dstdir, select_desc=\"Destination\")\n",
    "display(fc)"
   ]
  },
  {
   "cell_type": "markdown",
   "metadata": {},
   "source": [
    "Load the list of files."
   ]
  },
  {
   "cell_type": "code",
   "execution_count": null,
   "metadata": {},
   "outputs": [],
   "source": [
    "import pandas as pd\n",
    "dstdir = Path(fc.selected) if fc.selected is not None else Path(dstdir)\n",
    "filelistname = dstdir / \"filelist.csv\"\n",
    "print(\"Destination folder :\", dstdir)\n",
    "print(\"Output file list :\", filelistname)\n",
    "filelist = pd.read_csv(filelistname)\n",
    "filelist"
   ]
  },
  {
   "cell_type": "markdown",
   "metadata": {},
   "source": [
    "Process all files"
   ]
  },
  {
   "cell_type": "code",
   "execution_count": null,
   "metadata": {},
   "outputs": [],
   "source": [
    "import octofish\n",
    "from cellpose import models, core\n",
    "\n",
    "model = models.Cellpose(gpu=core.use_gpu(), model_type=\"nuclei\")\n",
    "resolution_level = 1\n",
    "crop = False\n",
    "dummy_run = False\n",
    "\n",
    "for row in filelist.iloc:\n",
    "    if octofish.get_files(dstdir, row, \"measurements\").exists() is False:\n",
    "        if octofish.get_files(dstdir, row, \"regions\").exists() is True:            \n",
    "            octofish.process_item(row, resolution_level, model, dstdir, crop, dummy_run)"
   ]
  }
 ],
 "metadata": {
  "language_info": {
   "name": "python",
   "pygments_lexer": "ipython3"
  }
 },
 "nbformat": 4,
 "nbformat_minor": 2
}
