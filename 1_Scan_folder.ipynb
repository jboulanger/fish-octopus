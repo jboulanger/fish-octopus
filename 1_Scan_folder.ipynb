{
 "cells": [
  {
   "cell_type": "markdown",
   "metadata": {},
   "source": [
    "# Create a list of files to process\n",
    "\n",
    "We start by creating a list of files to process located in a source (data) folder. \n",
    "\n",
    "The list of files will be saved as csv file in the destination (project) folder. \n",
    "\n",
    "The current source and destination folder are stored in a config.yml file locally."
   ]
  },
  {
   "cell_type": "code",
   "execution_count": null,
   "metadata": {},
   "outputs": [],
   "source": [
    "import yaml\n",
    "from pathlib import Path\n",
    "from ipyfilechooser import FileChooser\n",
    "\n",
    "srcdir, dstdir = \"\", \"\"\n",
    "if Path(\"config.yml\").exists():\n",
    "    with open(\"config.yml\", \"r\") as file:\n",
    "        config = yaml.safe_load(file)\n",
    "        if \"source\" in config.keys():\n",
    "            srcdir = Path(config[\"source\"])\n",
    "            if not srcdir.exists():\n",
    "                srcdir = \"\"\n",
    "        if \"destination\" in config.keys():\n",
    "            dstdir = Path(config[\"destination\"])\n",
    "            if not dstdir.exists():\n",
    "                dstdir = \"\"\n",
    "\n",
    "fc1 = FileChooser(srcdir, select_desc=\"Source\")\n",
    "fc2 = FileChooser(dstdir, select_desc=\"Destination\")\n",
    "display(fc1)\n",
    "display(fc2)"
   ]
  },
  {
   "cell_type": "code",
   "execution_count": null,
   "metadata": {},
   "outputs": [],
   "source": [
    "srcdir = Path(fc1.selected) if fc1.selected is not None else Path(srcdir)\n",
    "dstdir = Path(fc2.selected) if fc2.selected is not None else Path(dstdir)\n",
    "filelistname = dstdir / \"filelist.csv\"\n",
    "print(\"Source folder:\", srcdir)\n",
    "print(\"Destination folder :\", dstdir)\n",
    "print(\"Output file list :\", filelistname)\n",
    "\n",
    "# update yaml config file\n",
    "try:\n",
    "    cnf = yaml.safe_load(\n",
    "        f'source: \"{srcdir.as_posix()}\"\\ndestination: \"{dstdir.as_posix()}\"\\n'\n",
    "    )\n",
    "    with open(\"config.yml\", \"w\") as file:\n",
    "        yaml.dump(cnf, file)\n",
    "except:\n",
    "    pass"
   ]
  },
  {
   "cell_type": "code",
   "execution_count": null,
   "metadata": {},
   "outputs": [],
   "source": [
    "import pandas as pd\n",
    "\n",
    "filelist = pd.DataFrame.from_records(\n",
    "    [\n",
    "        {\n",
    "            \"folder\": p.parent,\n",
    "            \"name\": p.name,\n",
    "            \"channel1\": \"ch1\",\n",
    "            \"channel2\": \"ch2\",\n",
    "            \"channel3\": \"ch3\",\n",
    "            \"channel4\": \"nuclei\",\n",
    "        }\n",
    "        for p in srcdir.glob(\"*.ims\")\n",
    "    ]\n",
    ")\n",
    "filelist.to_csv(filelistname, index=False)\n",
    "\n",
    "filelist"
   ]
  }
 ],
 "metadata": {
  "language_info": {
   "name": "python",
   "pygments_lexer": "ipython3"
  }
 },
 "nbformat": 4,
 "nbformat_minor": 2
}
