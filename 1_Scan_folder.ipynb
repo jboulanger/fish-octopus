{
 "cells": [
  {
   "cell_type": "markdown",
   "metadata": {},
   "source": [
    "# Create a list of files to process"
   ]
  },
  {
   "cell_type": "code",
   "execution_count": 4,
   "metadata": {},
   "outputs": [
    {
     "data": {
      "application/vnd.jupyter.widget-view+json": {
       "model_id": "e9e42d202bd0407fab5d54940ccd3ca2",
       "version_major": 2,
       "version_minor": 0
      },
      "text/plain": [
       "FileChooser(path='/home/jeromeb/work/code/octopus', filename='', title='', show_hidden=False, select_desc='Sou…"
      ]
     },
     "metadata": {},
     "output_type": "display_data"
    },
    {
     "data": {
      "application/vnd.jupyter.widget-view+json": {
       "model_id": "172eef5cfbb5420c821e8eb0af9a3c25",
       "version_major": 2,
       "version_minor": 0
      },
      "text/plain": [
       "FileChooser(path='/home/jeromeb/work/code/octopus', filename='', title='', show_hidden=False, select_desc='Des…"
      ]
     },
     "metadata": {},
     "output_type": "display_data"
    }
   ],
   "source": [
    "import yaml\n",
    "from pathlib import Path\n",
    "from ipyfilechooser import FileChooser\n",
    "fc = FileChooser()\n",
    "srcdir, dstdir = '', ''\n",
    "if Path(\"config.yml\").exists():\n",
    "    with open(\"config.yml\", \"r\") as file:    \n",
    "        config = yaml.safe_load(file)\n",
    "        if 'source' in config.keys():\n",
    "            srcdir = Path(config[\"source\"])        \n",
    "        if 'destination' in config.keys():\n",
    "            dstdir = Path(config[\"destination\"])            \n",
    "fc1 = FileChooser(srcdir, select_desc='Source')\n",
    "fc2 = FileChooser(dstdir, select_desc='Destination')\n",
    "display(fc1)\n",
    "display(fc2)\n"
   ]
  },
  {
   "cell_type": "code",
   "execution_count": 5,
   "metadata": {},
   "outputs": [
    {
     "name": "stdout",
     "output_type": "stream",
     "text": [
      "Source folder: .\n",
      "Destination folder : .\n",
      "Output file list : filelist.csv\n"
     ]
    }
   ],
   "source": [
    "srcdir = Path(fc1.selected) if fc1.selected is not None else Path(srcdir)\n",
    "dstdir = Path(fc2.selected) if fc2.selected is not None else Path(dstdir)\n",
    "filelistname = dstdir / 'filelist.csv'\n",
    "print(\"Source folder:\", srcdir)\n",
    "print(\"Destination folder :\", dstdir)\n",
    "print(\"Output file list :\", filelistname)\n",
    "# update yaml config file\n",
    "cnf = yaml.safe_load(f'source: \\\"{srcdir}\\\"\\ndestination: \\\"{dstdir}\\\"\\n')\n",
    "with open('config.yml', 'w') as file:\n",
    "    yaml.dump(cnf, file)\n"
   ]
  },
  {
   "cell_type": "code",
   "execution_count": 6,
   "metadata": {},
   "outputs": [
    {
     "data": {
      "text/html": [
       "<div>\n",
       "<style scoped>\n",
       "    .dataframe tbody tr th:only-of-type {\n",
       "        vertical-align: middle;\n",
       "    }\n",
       "\n",
       "    .dataframe tbody tr th {\n",
       "        vertical-align: top;\n",
       "    }\n",
       "\n",
       "    .dataframe thead th {\n",
       "        text-align: right;\n",
       "    }\n",
       "</style>\n",
       "<table border=\"1\" class=\"dataframe\">\n",
       "  <thead>\n",
       "    <tr style=\"text-align: right;\">\n",
       "      <th></th>\n",
       "      <th>folder</th>\n",
       "      <th>name</th>\n",
       "    </tr>\n",
       "  </thead>\n",
       "  <tbody>\n",
       "  </tbody>\n",
       "</table>\n",
       "</div>"
      ],
      "text/plain": [
       "Empty DataFrame\n",
       "Columns: [folder, name]\n",
       "Index: []"
      ]
     },
     "execution_count": 6,
     "metadata": {},
     "output_type": "execute_result"
    }
   ],
   "source": [
    "import pandas as pd\n",
    "filelist = pd.DataFrame({'folder': [p.parent for p in srcdir.glob('*.ims')],'name': [p.name for p in srcdir.glob('*.ims')]})\n",
    "filelist.to_csv(filelistname)\n",
    "filelist"
   ]
  }
 ],
 "metadata": {
  "kernelspec": {
   "display_name": "imaging",
   "language": "python",
   "name": "python3"
  },
  "language_info": {
   "codemirror_mode": {
    "name": "ipython",
    "version": 3
   },
   "file_extension": ".py",
   "mimetype": "text/x-python",
   "name": "python",
   "nbconvert_exporter": "python",
   "pygments_lexer": "ipython3",
   "version": "3.12.2"
  }
 },
 "nbformat": 4,
 "nbformat_minor": 2
}
