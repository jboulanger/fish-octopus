{
 "cells": [
  {
   "cell_type": "markdown",
   "metadata": {},
   "source": [
    "# Create a list of files to process"
   ]
  },
  {
   "cell_type": "code",
   "execution_count": 1,
   "metadata": {},
   "outputs": [
    {
     "data": {
      "application/vnd.jupyter.widget-view+json": {
       "model_id": "f17080caf1d540b38ff654fc37457558",
       "version_major": 2,
       "version_minor": 0
      },
      "text/plain": [
       "FileChooser(path='/run/user/1000/gvfs/smb-share:server=cephfs2,share=users/acourtney/HCR_Octopus_Jerome/Febuar…"
      ]
     },
     "metadata": {},
     "output_type": "display_data"
    },
    {
     "data": {
      "application/vnd.jupyter.widget-view+json": {
       "model_id": "60433df40dfb470fb6b00fd22d22ee3e",
       "version_major": 2,
       "version_minor": 0
      },
      "text/plain": [
       "FileChooser(path='/home/jeromeb/work/code/octopus', filename='', title='', show_hidden=False, select_desc='Des…"
      ]
     },
     "metadata": {},
     "output_type": "display_data"
    }
   ],
   "source": [
    "import yaml\n",
    "from pathlib import Path\n",
    "from ipyfilechooser import FileChooser\n",
    "fc = FileChooser()\n",
    "srcdir, dstdir = '', ''\n",
    "with open(\"config.yml\", \"r\") as file:    \n",
    "    config = yaml.safe_load(file)\n",
    "    if 'source' in config.keys():\n",
    "        srcdir = Path(config[\"source\"])        \n",
    "    if 'destination' in config.keys():\n",
    "        dstdir = Path(config[\"destination\"])            \n",
    "fc1 = FileChooser(srcdir, select_desc='Source')\n",
    "fc2 = FileChooser(dstdir, select_desc='Destination')\n",
    "display(fc1)\n",
    "display(fc2)\n"
   ]
  },
  {
   "cell_type": "code",
   "execution_count": 2,
   "metadata": {},
   "outputs": [
    {
     "name": "stdout",
     "output_type": "stream",
     "text": [
      "Source folder: /run/user/1000/gvfs/smb-share:server=cephfs2,share=users/acourtney/HCR_Octopus_Jerome/Febuary2024\n",
      "Destination folder : /home/jeromeb/work/code/octopus/results\n",
      "Output file list : /home/jeromeb/work/code/octopus/results/filelist.csv\n"
     ]
    }
   ],
   "source": [
    "srcdir = Path(fc1.selected) if fc1.selected is not None else Path(srcdir)\n",
    "dstdir = Path(fc2.selected) if fc2.selected is not None else Path(dstdir)\n",
    "filelistname = dstdir / 'filelist.csv'\n",
    "print(\"Source folder:\", srcdir)\n",
    "print(\"Destination folder :\", dstdir)\n",
    "print(\"Output file list :\", filelistname)\n",
    "cnf = yaml.safe_load(f'source: \\\"{srcdir}\\\"\\ndestination: \\\"{dstdir}\\\"\\n')\n",
    "# update yaml config file\n",
    "with open('config.yml', 'w') as file:\n",
    "    yaml.dump(cnf, file)\n"
   ]
  },
  {
   "cell_type": "code",
   "execution_count": 3,
   "metadata": {},
   "outputs": [
    {
     "data": {
      "text/html": [
       "<div>\n",
       "<style scoped>\n",
       "    .dataframe tbody tr th:only-of-type {\n",
       "        vertical-align: middle;\n",
       "    }\n",
       "\n",
       "    .dataframe tbody tr th {\n",
       "        vertical-align: top;\n",
       "    }\n",
       "\n",
       "    .dataframe thead th {\n",
       "        text-align: right;\n",
       "    }\n",
       "</style>\n",
       "<table border=\"1\" class=\"dataframe\">\n",
       "  <thead>\n",
       "    <tr style=\"text-align: right;\">\n",
       "      <th></th>\n",
       "      <th>folder</th>\n",
       "      <th>name</th>\n",
       "    </tr>\n",
       "  </thead>\n",
       "  <tbody>\n",
       "    <tr>\n",
       "      <th>0</th>\n",
       "      <td>/run/user/1000/gvfs/smb-share:server=cephfs2,s...</td>\n",
       "      <td>2023_13Dec_4a17Dec_F2_Stitched_Cropped_ForAnal...</td>\n",
       "    </tr>\n",
       "    <tr>\n",
       "      <th>1</th>\n",
       "      <td>/run/user/1000/gvfs/smb-share:server=cephfs2,s...</td>\n",
       "      <td>2023_12Dec_2a17Dec_F2_Stitched_Cropped_ForAnal...</td>\n",
       "    </tr>\n",
       "    <tr>\n",
       "      <th>2</th>\n",
       "      <td>/run/user/1000/gvfs/smb-share:server=cephfs2,s...</td>\n",
       "      <td>2023_20Dec_2aBatch2_12Dec_F1_Stitched_Cropped_...</td>\n",
       "    </tr>\n",
       "    <tr>\n",
       "      <th>3</th>\n",
       "      <td>/run/user/1000/gvfs/smb-share:server=cephfs2,s...</td>\n",
       "      <td>14Aug2023_3b_Slices_F1_Stitched_Cropped_ForAna...</td>\n",
       "    </tr>\n",
       "  </tbody>\n",
       "</table>\n",
       "</div>"
      ],
      "text/plain": [
       "                                              folder  \\\n",
       "0  /run/user/1000/gvfs/smb-share:server=cephfs2,s...   \n",
       "1  /run/user/1000/gvfs/smb-share:server=cephfs2,s...   \n",
       "2  /run/user/1000/gvfs/smb-share:server=cephfs2,s...   \n",
       "3  /run/user/1000/gvfs/smb-share:server=cephfs2,s...   \n",
       "\n",
       "                                                name  \n",
       "0  2023_13Dec_4a17Dec_F2_Stitched_Cropped_ForAnal...  \n",
       "1  2023_12Dec_2a17Dec_F2_Stitched_Cropped_ForAnal...  \n",
       "2  2023_20Dec_2aBatch2_12Dec_F1_Stitched_Cropped_...  \n",
       "3  14Aug2023_3b_Slices_F1_Stitched_Cropped_ForAna...  "
      ]
     },
     "execution_count": 3,
     "metadata": {},
     "output_type": "execute_result"
    }
   ],
   "source": [
    "import pandas as pd\n",
    "filelist = pd.DataFrame({'folder': [p.parent for p in srcdir.glob('*.ims')],'name': [p.name for p in srcdir.glob('*.ims')]})\n",
    "filelist.to_csv(filelistname)\n",
    "filelist"
   ]
  }
 ],
 "metadata": {
  "kernelspec": {
   "display_name": "imaging",
   "language": "python",
   "name": "python3"
  },
  "language_info": {
   "codemirror_mode": {
    "name": "ipython",
    "version": 3
   },
   "file_extension": ".py",
   "mimetype": "text/x-python",
   "name": "python",
   "nbconvert_exporter": "python",
   "pygments_lexer": "ipython3",
   "version": "3.9.16"
  }
 },
 "nbformat": 4,
 "nbformat_minor": 2
}
