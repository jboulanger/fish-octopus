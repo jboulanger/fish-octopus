{
 "cells": [
  {
   "cell_type": "markdown",
   "metadata": {},
   "source": [
    "# Visualization and statistical analysis"
   ]
  },
  {
   "cell_type": "markdown",
   "metadata": {},
   "source": [
    "Define the result folder"
   ]
  },
  {
   "cell_type": "code",
   "execution_count": 1,
   "metadata": {},
   "outputs": [
    {
     "data": {
      "application/vnd.jupyter.widget-view+json": {
       "model_id": "4b1740e5171d4525a2db6814c1041548",
       "version_major": 2,
       "version_minor": 0
      },
      "text/plain": [
       "FileChooser(path='/home/jeromeb/work/code/octopus/results', filename='', title='', show_hidden=False, select_d…"
      ]
     },
     "metadata": {},
     "output_type": "display_data"
    }
   ],
   "source": [
    "import yaml\n",
    "from pathlib import Path\n",
    "from ipyfilechooser import FileChooser\n",
    "srcdir, dstdir = '', ''\n",
    "with open(\"config.yml\", \"r\") as file:    \n",
    "    config = yaml.safe_load(file)\n",
    "    if 'source' in config.keys():\n",
    "        srcdir = Path(config[\"source\"])        \n",
    "    if 'destination' in config.keys():\n",
    "        dstdir = Path(config[\"destination\"]) \n",
    "\n",
    "fc = FileChooser(dstdir, select_desc='Destination')\n",
    "display(fc)"
   ]
  },
  {
   "cell_type": "code",
   "execution_count": 4,
   "metadata": {},
   "outputs": [
    {
     "data": {
      "text/html": [
       "<div>\n",
       "<style scoped>\n",
       "    .dataframe tbody tr th:only-of-type {\n",
       "        vertical-align: middle;\n",
       "    }\n",
       "\n",
       "    .dataframe tbody tr th {\n",
       "        vertical-align: top;\n",
       "    }\n",
       "\n",
       "    .dataframe thead th {\n",
       "        text-align: right;\n",
       "    }\n",
       "</style>\n",
       "<table border=\"1\" class=\"dataframe\">\n",
       "  <thead>\n",
       "    <tr style=\"text-align: right;\">\n",
       "      <th></th>\n",
       "      <th>Unnamed: 0</th>\n",
       "      <th>folder</th>\n",
       "      <th>name</th>\n",
       "    </tr>\n",
       "  </thead>\n",
       "  <tbody>\n",
       "    <tr>\n",
       "      <th>0</th>\n",
       "      <td>0</td>\n",
       "      <td>/run/user/1000/gvfs/smb-share:server=cephfs2,s...</td>\n",
       "      <td>2023_13Dec_4a17Dec_F2_Stitched_Cropped_ForAnal...</td>\n",
       "    </tr>\n",
       "    <tr>\n",
       "      <th>1</th>\n",
       "      <td>1</td>\n",
       "      <td>/run/user/1000/gvfs/smb-share:server=cephfs2,s...</td>\n",
       "      <td>2023_12Dec_2a17Dec_F2_Stitched_Cropped_ForAnal...</td>\n",
       "    </tr>\n",
       "    <tr>\n",
       "      <th>2</th>\n",
       "      <td>2</td>\n",
       "      <td>/run/user/1000/gvfs/smb-share:server=cephfs2,s...</td>\n",
       "      <td>2023_20Dec_2aBatch2_12Dec_F1_Stitched_Cropped_...</td>\n",
       "    </tr>\n",
       "    <tr>\n",
       "      <th>3</th>\n",
       "      <td>3</td>\n",
       "      <td>/run/user/1000/gvfs/smb-share:server=cephfs2,s...</td>\n",
       "      <td>14Aug2023_3b_Slices_F1_Stitched_Cropped_ForAna...</td>\n",
       "    </tr>\n",
       "  </tbody>\n",
       "</table>\n",
       "</div>"
      ],
      "text/plain": [
       "   Unnamed: 0                                             folder  \\\n",
       "0           0  /run/user/1000/gvfs/smb-share:server=cephfs2,s...   \n",
       "1           1  /run/user/1000/gvfs/smb-share:server=cephfs2,s...   \n",
       "2           2  /run/user/1000/gvfs/smb-share:server=cephfs2,s...   \n",
       "3           3  /run/user/1000/gvfs/smb-share:server=cephfs2,s...   \n",
       "\n",
       "                                                name  \n",
       "0  2023_13Dec_4a17Dec_F2_Stitched_Cropped_ForAnal...  \n",
       "1  2023_12Dec_2a17Dec_F2_Stitched_Cropped_ForAnal...  \n",
       "2  2023_20Dec_2aBatch2_12Dec_F1_Stitched_Cropped_...  \n",
       "3  14Aug2023_3b_Slices_F1_Stitched_Cropped_ForAna...  "
      ]
     },
     "execution_count": 4,
     "metadata": {},
     "output_type": "execute_result"
    }
   ],
   "source": [
    "import pandas as pd\n",
    "dstdir = Path(fc.selected) if fc.selected is not None else Path(dstdir)\n",
    "filelistname = dstdir / 'filelist.csv'\n",
    "filelist = pd.read_csv(filelistname)\n",
    "filelist"
   ]
  },
  {
   "cell_type": "code",
   "execution_count": 5,
   "metadata": {},
   "outputs": [],
   "source": [
    "import numpy as np\n",
    "import tifffile\n",
    "import napari\n",
    "\n",
    "def get_files(dstdir, row, key=None):\n",
    "    if key == 'ims':\n",
    "        return Path(row['folder']) / row['name']\n",
    "    elif key == 'regions':\n",
    "        return Path(dstdir / str(row[\"name\"]).replace('.ims','-regions.json'))\n",
    "    elif key == 'labels':\n",
    "        return Path(dstdir / str(row['name']).replace('.ims','-labels.tif'))\n",
    "    elif key == 'measurements':\n",
    "        return Path(dstdir / str(row['name']).replace('.ims','-measurements.csv'))\n",
    "    elif key == 'stats':\n",
    "        return Path(dstdir / str(row['name']).replace('.ims','-stats.csv'))\n",
    "    else:\n",
    "        return {\n",
    "            'ims': get_files(dstdir, row, 'ims'),\n",
    "            'regions': get_files(dstdir, row, 'regions'),\n",
    "            'labels': get_files(dstdir, row, 'labels'),\n",
    "            'measurements':  get_files(dstdir, row, 'measurements')\n",
    "        }\n",
    "\n",
    "def create_heatmaps(labels, df, thresholds):    \n",
    "    heatmaps = np.zeros([3,*labels.shape])\n",
    "    for row in df.iloc:\n",
    "        for k, c in enumerate(['ch1','ch2','ch3']):\n",
    "            if row[c] > thresholds[c]:\n",
    "                heatmaps[k][labels == row['label']] = row[c]  \n",
    "    return heatmaps\n",
    "\n",
    "def create_codemap(labels, df):\n",
    "    \"\"\"Create a map of the binary codes\"\"\"\n",
    "    K = len(df['code'].unique())\n",
    "    code2ind = {c:k for k,c in enumerate(df['code'].unique())}\n",
    "    a = np.zeros([K, *labels.shape], dtype=np.uint8)\n",
    "    for row in df.iloc:\n",
    "        k = code2ind[row['code']]        \n",
    "        a[k][labels == row['label']] = 1\n",
    "    return a, code2ind\n"
   ]
  },
  {
   "cell_type": "code",
   "execution_count": 6,
   "metadata": {},
   "outputs": [
    {
     "data": {
      "application/vnd.jupyter.widget-view+json": {
       "model_id": "f655a23ef1d1438e940d7dcf19f38077",
       "version_major": 2,
       "version_minor": 0
      },
      "text/plain": [
       "Dropdown(description='Image:', index=1, options=(('2023_13Dec_4a17Dec_F2_Stitched_Cropped_ForAnalysis.ims', 0)…"
      ]
     },
     "metadata": {},
     "output_type": "display_data"
    }
   ],
   "source": [
    "import ipywidgets as widgets\n",
    "w = widgets.Dropdown(\n",
    "    options=[(x,k) for k,x in enumerate(filelist['name'])],\n",
    "    value=1,\n",
    "    description='Image:',\n",
    ")\n",
    "display(w)"
   ]
  },
  {
   "cell_type": "code",
   "execution_count": 8,
   "metadata": {},
   "outputs": [
    {
     "name": "stdout",
     "output_type": "stream",
     "text": [
      "Input IMS filename: /run/user/1000/gvfs/smb-share:server=cephfs2,share=users/acourtney/HCR_Octopus_Jerome/Febuary2024/14Aug2023_3b_Slices_F1_Stitched_Cropped_ForAnalysis.ims\n",
      "Destination: /home/jeromeb/work/code/octopus/results\n",
      "Output region file: /home/jeromeb/work/code/octopus/results/14Aug2023_3b_Slices_F1_Stitched_Cropped_ForAnalysis-regions.json\n"
     ]
    }
   ],
   "source": [
    "row = filelist.iloc[w.value]\n",
    "filename = get_files(dstdir, row, 'ims')\n",
    "regionname = get_files(dstdir, row, 'regions')\n",
    "print(\"Input IMS filename:\", filename)\n",
    "print(\"Destination:\", dstdir)\n",
    "print(\"Output region file:\", regionname)\n",
    "cnf = yaml.safe_load(f'source: \\\"{srcdir}\\\"\\ndestination: \\\"{dstdir}\\\"\\n')\n",
    "# update yaml config file\n",
    "with open('config.yml', 'w') as file:\n",
    "    yaml.dump(cnf, file)"
   ]
  },
  {
   "cell_type": "code",
   "execution_count": 9,
   "metadata": {},
   "outputs": [],
   "source": [
    "row = filelist.iloc[3]\n",
    "labels = tifffile.imread(get_files(dstdir, row, 'labels'))\n",
    "labels = labels[::4,::8,::8] # downsample the label\n",
    "df = pd.read_csv(get_files(dstdir, row, 'measurements'))\n",
    "\n",
    "# compute the thresholds\n",
    "thresholds = {c:df[c].mean() + df[c].std() for c in ['ch1','ch2','ch3']}            \n",
    "\n",
    "# compute the codes\n",
    "df['code'] = [''.join([str(int(row[c] > thresholds[c])) for c in ['ch1','ch2','ch3']]) for row in df.iloc ]\n"
   ]
  },
  {
   "cell_type": "code",
   "execution_count": 10,
   "metadata": {},
   "outputs": [
    {
     "data": {
      "text/plain": [
       "Viewer(axes=Axes(visible=False, labels=True, colored=True, dashed=False, arrows=True), camera=Camera(center=(0.0, 137.0, 67.0), zoom=6.750181818181818, angles=(0.0, 0.0, 90.0), perspective=0.0, interactive=True), cursor=Cursor(position=(6.0, 1.0, 0.0), scaled=True, size=1, style=<CursorStyle.STANDARD: 'standard'>), dims=Dims(ndim=3, ndisplay=2, last_used=0, range=((0.0, 12.0, 1.0), (0.0, 275.0, 1.0), (0.0, 135.0, 1.0)), current_step=(6, 137, 67), order=(0, 1, 2), axis_labels=('0', '1', '2')), grid=GridCanvas(stride=1, shape=(-1, -1), enabled=False), layers=[<Image layer 'ch1' at 0x7f94c234ea00>, <Image layer 'ch2' at 0x7f94c237b310>, <Image layer 'ch3' at 0x7f94c21751c0>], scale_bar=ScaleBar(visible=False, colored=False, color=array([1., 0., 1., 1.], dtype=float32), ticks=True, position=<Position.BOTTOM_RIGHT: 'bottom_right'>, font_size=10.0, box=False, box_color=array([0. , 0. , 0. , 0.6], dtype=float32), unit=None), text_overlay=TextOverlay(visible=False, color=array([0.5, 0.5, 0.5, 1. ], dtype=float32), font_size=10.0, position=<TextOverlayPosition.TOP_LEFT: 'top_left'>, text=''), overlays=Overlays(interaction_box=InteractionBox(points=None, show=False, show_handle=False, show_vertices=False, selection_box_drag=None, selection_box_final=None, transform_start=<napari.utils.transforms.transforms.Affine object at 0x7f9505af2d60>, transform_drag=<napari.utils.transforms.transforms.Affine object at 0x7f9505af2dc0>, transform_final=<napari.utils.transforms.transforms.Affine object at 0x7f9505af2e20>, transform=<napari.utils.transforms.transforms.Affine object at 0x7f9505af2e80>, allow_new_selection=True, selected_vertex=None)), help='', status='Ready', tooltip=Tooltip(visible=True, text=''), theme='dark', title='napari', mouse_over_canvas=False, mouse_move_callbacks=[<function InteractionBoxMouseBindings.initialize_mouse_events.<locals>.mouse_move at 0x7f94e8b815e0>], mouse_drag_callbacks=[<function InteractionBoxMouseBindings.initialize_mouse_events.<locals>.mouse_drag at 0x7f94e8b6fa60>], mouse_double_click_callbacks=[], mouse_wheel_callbacks=[<function dims_scroll at 0x7f9505b40f70>], _persisted_mouse_event={}, _mouse_drag_gen={}, _mouse_wheel_gen={}, keymap={'Shift': <function InteractionBoxMouseBindings.initialize_key_events.<locals>.hold_to_lock_aspect_ratio at 0x7f94e8b6f8b0>, 'Control-Shift-R': <function InteractionBoxMouseBindings._reset_active_layer_affine at 0x7f94e8c36160>, 'Control-Shift-A': <function InteractionBoxMouseBindings._transform_active_layer at 0x7f94e8c361f0>})"
      ]
     },
     "execution_count": 10,
     "metadata": {},
     "output_type": "execute_result"
    }
   ],
   "source": [
    "heatmaps = create_heatmaps(labels, df, thresholds)\n",
    "napari.view_image(heatmaps,channel_axis=0,name=['ch1','ch2','ch3'])"
   ]
  },
  {
   "cell_type": "code",
   "execution_count": 11,
   "metadata": {},
   "outputs": [
    {
     "data": {
      "text/plain": [
       "Viewer(axes=Axes(visible=False, labels=True, colored=True, dashed=False, arrows=True), camera=Camera(center=(0.0, 137.0, 67.0), zoom=6.750181818181818, angles=(0.0, 0.0, 90.0), perspective=0.0, interactive=True), cursor=Cursor(position=(6.0, 1.0, 0.0), scaled=True, size=1, style=<CursorStyle.STANDARD: 'standard'>), dims=Dims(ndim=3, ndisplay=2, last_used=0, range=((0.0, 12.0, 1.0), (0.0, 275.0, 1.0), (0.0, 135.0, 1.0)), current_step=(6, 137, 67), order=(0, 1, 2), axis_labels=('0', '1', '2')), grid=GridCanvas(stride=1, shape=(-1, -1), enabled=False), layers=[<Image layer '000' at 0x7f94c1d63460>, <Image layer '110' at 0x7f94c1f85880>, <Image layer '100' at 0x7f94c1c35e50>, <Image layer '111' at 0x7f94c1b869a0>, <Image layer '001' at 0x7f94c1b1dfa0>, <Image layer '101' at 0x7f94c1a47f40>, <Image layer '010' at 0x7f94c1d99ca0>, <Image layer '011' at 0x7f94c1968eb0>], scale_bar=ScaleBar(visible=False, colored=False, color=array([1., 0., 1., 1.], dtype=float32), ticks=True, position=<Position.BOTTOM_RIGHT: 'bottom_right'>, font_size=10.0, box=False, box_color=array([0. , 0. , 0. , 0.6], dtype=float32), unit=None), text_overlay=TextOverlay(visible=False, color=array([0.5, 0.5, 0.5, 1. ], dtype=float32), font_size=10.0, position=<TextOverlayPosition.TOP_LEFT: 'top_left'>, text=''), overlays=Overlays(interaction_box=InteractionBox(points=None, show=False, show_handle=False, show_vertices=False, selection_box_drag=None, selection_box_final=None, transform_start=<napari.utils.transforms.transforms.Affine object at 0x7f94f0123760>, transform_drag=<napari.utils.transforms.transforms.Affine object at 0x7f94f01237c0>, transform_final=<napari.utils.transforms.transforms.Affine object at 0x7f94f0123820>, transform=<napari.utils.transforms.transforms.Affine object at 0x7f94f0123880>, allow_new_selection=True, selected_vertex=None)), help='', status='Ready', tooltip=Tooltip(visible=True, text=''), theme='dark', title='napari', mouse_over_canvas=False, mouse_move_callbacks=[<function InteractionBoxMouseBindings.initialize_mouse_events.<locals>.mouse_move at 0x7f94c1d35040>], mouse_drag_callbacks=[<function InteractionBoxMouseBindings.initialize_mouse_events.<locals>.mouse_drag at 0x7f94c1da1c10>], mouse_double_click_callbacks=[], mouse_wheel_callbacks=[<function dims_scroll at 0x7f9505b40f70>], _persisted_mouse_event={}, _mouse_drag_gen={}, _mouse_wheel_gen={}, keymap={'Shift': <function InteractionBoxMouseBindings.initialize_key_events.<locals>.hold_to_lock_aspect_ratio at 0x7f94c1da1550>, 'Control-Shift-R': <function InteractionBoxMouseBindings._reset_active_layer_affine at 0x7f94c1da1310>, 'Control-Shift-A': <function InteractionBoxMouseBindings._transform_active_layer at 0x7f94c1da10d0>})"
      ]
     },
     "execution_count": 11,
     "metadata": {},
     "output_type": "execute_result"
    }
   ],
   "source": [
    "codemaps, codes = create_codemap(labels, df)\n",
    "napari.view_image(codemaps,channel_axis=0,contrast_limits=[0,1],name=codes.keys())"
   ]
  },
  {
   "cell_type": "code",
   "execution_count": 13,
   "metadata": {},
   "outputs": [
    {
     "data": {
      "text/html": [
       "<div>\n",
       "<style scoped>\n",
       "    .dataframe tbody tr th:only-of-type {\n",
       "        vertical-align: middle;\n",
       "    }\n",
       "\n",
       "    .dataframe tbody tr th {\n",
       "        vertical-align: top;\n",
       "    }\n",
       "\n",
       "    .dataframe thead th {\n",
       "        text-align: right;\n",
       "    }\n",
       "</style>\n",
       "<table border=\"1\" class=\"dataframe\">\n",
       "  <thead>\n",
       "    <tr style=\"text-align: right;\">\n",
       "      <th>code</th>\n",
       "      <th>000</th>\n",
       "      <th>001</th>\n",
       "      <th>010</th>\n",
       "      <th>011</th>\n",
       "      <th>100</th>\n",
       "      <th>101</th>\n",
       "      <th>110</th>\n",
       "      <th>111</th>\n",
       "    </tr>\n",
       "    <tr>\n",
       "      <th>roi</th>\n",
       "      <th></th>\n",
       "      <th></th>\n",
       "      <th></th>\n",
       "      <th></th>\n",
       "      <th></th>\n",
       "      <th></th>\n",
       "      <th></th>\n",
       "      <th></th>\n",
       "    </tr>\n",
       "  </thead>\n",
       "  <tbody>\n",
       "    <tr>\n",
       "      <th>0</th>\n",
       "      <td>746.0</td>\n",
       "      <td>44.0</td>\n",
       "      <td>18.0</td>\n",
       "      <td>2.0</td>\n",
       "      <td>51.0</td>\n",
       "      <td>13.0</td>\n",
       "      <td>84.0</td>\n",
       "      <td>60.0</td>\n",
       "    </tr>\n",
       "    <tr>\n",
       "      <th>1</th>\n",
       "      <td>520.0</td>\n",
       "      <td>38.0</td>\n",
       "      <td>9.0</td>\n",
       "      <td>0.0</td>\n",
       "      <td>16.0</td>\n",
       "      <td>17.0</td>\n",
       "      <td>6.0</td>\n",
       "      <td>18.0</td>\n",
       "    </tr>\n",
       "    <tr>\n",
       "      <th>2</th>\n",
       "      <td>298.0</td>\n",
       "      <td>31.0</td>\n",
       "      <td>26.0</td>\n",
       "      <td>1.0</td>\n",
       "      <td>12.0</td>\n",
       "      <td>4.0</td>\n",
       "      <td>36.0</td>\n",
       "      <td>23.0</td>\n",
       "    </tr>\n",
       "    <tr>\n",
       "      <th>3</th>\n",
       "      <td>519.0</td>\n",
       "      <td>7.0</td>\n",
       "      <td>20.0</td>\n",
       "      <td>1.0</td>\n",
       "      <td>64.0</td>\n",
       "      <td>6.0</td>\n",
       "      <td>124.0</td>\n",
       "      <td>36.0</td>\n",
       "    </tr>\n",
       "  </tbody>\n",
       "</table>\n",
       "</div>"
      ],
      "text/plain": [
       "code    000   001   010  011   100   101    110   111\n",
       "roi                                                  \n",
       "0     746.0  44.0  18.0  2.0  51.0  13.0   84.0  60.0\n",
       "1     520.0  38.0   9.0  0.0  16.0  17.0    6.0  18.0\n",
       "2     298.0  31.0  26.0  1.0  12.0   4.0   36.0  23.0\n",
       "3     519.0   7.0  20.0  1.0  64.0   6.0  124.0  36.0"
      ]
     },
     "execution_count": 13,
     "metadata": {},
     "output_type": "execute_result"
    }
   ],
   "source": [
    "tbl = pd.pivot_table(df.groupby(['roi','code'])['label'].agg('count').to_frame(), values='label', index='roi',columns='code').fillna(0)\n",
    "tbl"
   ]
  },
  {
   "cell_type": "code",
   "execution_count": 14,
   "metadata": {},
   "outputs": [
    {
     "data": {
      "text/html": [
       "<div>\n",
       "<style scoped>\n",
       "    .dataframe tbody tr th:only-of-type {\n",
       "        vertical-align: middle;\n",
       "    }\n",
       "\n",
       "    .dataframe tbody tr th {\n",
       "        vertical-align: top;\n",
       "    }\n",
       "\n",
       "    .dataframe thead th {\n",
       "        text-align: right;\n",
       "    }\n",
       "</style>\n",
       "<table border=\"1\" class=\"dataframe\">\n",
       "  <thead>\n",
       "    <tr style=\"text-align: right;\">\n",
       "      <th>code</th>\n",
       "      <th>000</th>\n",
       "      <th>001</th>\n",
       "      <th>010</th>\n",
       "      <th>011</th>\n",
       "      <th>100</th>\n",
       "      <th>101</th>\n",
       "      <th>110</th>\n",
       "      <th>111</th>\n",
       "    </tr>\n",
       "    <tr>\n",
       "      <th>roi</th>\n",
       "      <th></th>\n",
       "      <th></th>\n",
       "      <th></th>\n",
       "      <th></th>\n",
       "      <th></th>\n",
       "      <th></th>\n",
       "      <th></th>\n",
       "      <th></th>\n",
       "    </tr>\n",
       "  </thead>\n",
       "  <tbody>\n",
       "    <tr>\n",
       "      <th>0</th>\n",
       "      <td>73.280943</td>\n",
       "      <td>4.322200</td>\n",
       "      <td>1.768173</td>\n",
       "      <td>0.196464</td>\n",
       "      <td>5.009823</td>\n",
       "      <td>1.277014</td>\n",
       "      <td>8.251473</td>\n",
       "      <td>5.893910</td>\n",
       "    </tr>\n",
       "    <tr>\n",
       "      <th>1</th>\n",
       "      <td>83.333333</td>\n",
       "      <td>6.089744</td>\n",
       "      <td>1.442308</td>\n",
       "      <td>0.000000</td>\n",
       "      <td>2.564103</td>\n",
       "      <td>2.724359</td>\n",
       "      <td>0.961538</td>\n",
       "      <td>2.884615</td>\n",
       "    </tr>\n",
       "    <tr>\n",
       "      <th>2</th>\n",
       "      <td>69.141531</td>\n",
       "      <td>7.192575</td>\n",
       "      <td>6.032483</td>\n",
       "      <td>0.232019</td>\n",
       "      <td>2.784223</td>\n",
       "      <td>0.928074</td>\n",
       "      <td>8.352668</td>\n",
       "      <td>5.336427</td>\n",
       "    </tr>\n",
       "    <tr>\n",
       "      <th>3</th>\n",
       "      <td>66.795367</td>\n",
       "      <td>0.900901</td>\n",
       "      <td>2.574003</td>\n",
       "      <td>0.128700</td>\n",
       "      <td>8.236808</td>\n",
       "      <td>0.772201</td>\n",
       "      <td>15.958816</td>\n",
       "      <td>4.633205</td>\n",
       "    </tr>\n",
       "  </tbody>\n",
       "</table>\n",
       "</div>"
      ],
      "text/plain": [
       "code        000       001       010       011       100       101        110  \\\n",
       "roi                                                                            \n",
       "0     73.280943  4.322200  1.768173  0.196464  5.009823  1.277014   8.251473   \n",
       "1     83.333333  6.089744  1.442308  0.000000  2.564103  2.724359   0.961538   \n",
       "2     69.141531  7.192575  6.032483  0.232019  2.784223  0.928074   8.352668   \n",
       "3     66.795367  0.900901  2.574003  0.128700  8.236808  0.772201  15.958816   \n",
       "\n",
       "code       111  \n",
       "roi             \n",
       "0     5.893910  \n",
       "1     2.884615  \n",
       "2     5.336427  \n",
       "3     4.633205  "
      ]
     },
     "execution_count": 14,
     "metadata": {},
     "output_type": "execute_result"
    }
   ],
   "source": [
    "relative = 100*tbl.div(tbl.sum(axis=1), axis=0)\n",
    "relative.to_csv('')\n",
    "relative\n"
   ]
  },
  {
   "cell_type": "code",
   "execution_count": 15,
   "metadata": {},
   "outputs": [
    {
     "data": {
      "image/png": "[encoded data removed]",
      "text/plain": [
       "<Figure size 640x480 with 1 Axes>"
      ]
     },
     "metadata": {},
     "output_type": "display_data"
    }
   ],
   "source": [
    "relative.T.plot(kind='bar');"
   ]
  }
 ],
 "metadata": {
  "kernelspec": {
   "display_name": "imaging",
   "language": "python",
   "name": "python3"
  },
  "language_info": {
   "codemirror_mode": {
    "name": "ipython",
    "version": 3
   },
   "file_extension": ".py",
   "mimetype": "text/x-python",
   "name": "python",
   "nbconvert_exporter": "python",
   "pygments_lexer": "ipython3",
   "version": "3.9.16"
  }
 },
 "nbformat": 4,
 "nbformat_minor": 2
}
