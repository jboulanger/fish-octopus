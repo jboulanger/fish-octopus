{
 "cells": [
  {
   "cell_type": "markdown",
   "metadata": {},
   "source": [
    "# Section of region of interest"
   ]
  },
  {
   "cell_type": "code",
   "execution_count": 31,
   "metadata": {},
   "outputs": [
    {
     "data": {
      "application/vnd.jupyter.widget-view+json": {
       "model_id": "52032fcf80b643fd87710350179b16d1",
       "version_major": 2,
       "version_minor": 0
      },
      "text/plain": [
       "FileChooser(path='/run/user/1000/gvfs/smb-share:server=cephfs2,share=users/acourtney/HCR_Octopus_Jerome/Febuar…"
      ]
     },
     "metadata": {},
     "output_type": "display_data"
    }
   ],
   "source": [
    "from pathlib import Path\n",
    "from ipyfilechooser import FileChooser\n",
    "fc = FileChooser('/run/user/1000/gvfs/smb-share:server=cephfs2,share=users/acourtney/HCR_Octopus_Jerome/Febuary2024/')\n",
    "display(fc)"
   ]
  },
  {
   "cell_type": "code",
   "execution_count": 54,
   "metadata": {},
   "outputs": [
    {
     "name": "stdout",
     "output_type": "stream",
     "text": [
      "File 14Aug2023_3b_Slices_F1_Stitched_Cropped_ForAnalysis.ims is  accessible\n"
     ]
    }
   ],
   "source": [
    "path = Path(fc.selected)\n",
    "folder = path.parent\n",
    "destdir = Path('./')\n",
    "#destdir = folder\n",
    "filename = path.name\n",
    "def check_path(p):\n",
    "    if p.exists():\n",
    "        print(f'File {p.name} is  accessible')\n",
    "    else:\n",
    "        print(f'File {p.name} is not accessible')\n",
    "    \n",
    "check_path(folder / filename)"
   ]
  },
  {
   "cell_type": "code",
   "execution_count": 39,
   "metadata": {},
   "outputs": [
    {
     "name": "stdout",
     "output_type": "stream",
     "text": [
      "Opening readonly file: /run/user/1000/gvfs/smb-share:server=cephfs2,share=users/acourtney/HCR_Octopus_Jerome/Febuary2024/14Aug2023_3b_Slices_F1_Stitched_Cropped_ForAnalysis.ims \n",
      "\n",
      "GET : .zarray\n",
      "GET : 0.3.0.0.0\n",
      "[(0, 1), (3, 4), (0, 32), (0, 128), (0, 128)]\n",
      "GET : 0.3.1.0.0\n",
      "[(0, 1), (3, 4), (32, 45), (0, 128), (0, 128)]\n",
      "GET : 0.3.0.0.1\n",
      "[(0, 1), (3, 4), (0, 32), (0, 128), (128, 256)]\n",
      "GET : 0.3.1.0.1\n",
      "[(0, 1), (3, 4), (32, 45), (0, 128), (128, 256)]\n",
      "GET : 0.3.0.0.2\n",
      "[(0, 1), (3, 4), (0, 32), (0, 128), (256, 269)]\n",
      "GET : 0.3.1.0.2\n",
      "[(0, 1), (3, 4), (32, 45), (0, 128), (256, 269)]\n",
      "GET : 0.3.0.1.0\n",
      "[(0, 1), (3, 4), (0, 32), (128, 256), (0, 128)]\n",
      "GET : 0.3.1.1.0\n",
      "[(0, 1), (3, 4), (32, 45), (128, 256), (0, 128)]\n",
      "GET : 0.3.0.1.1\n",
      "[(0, 1), (3, 4), (0, 32), (128, 256), (128, 256)]\n",
      "GET : 0.3.1.1.1\n",
      "[(0, 1), (3, 4), (32, 45), (128, 256), (128, 256)]\n",
      "GET : 0.3.0.1.2\n",
      "[(0, 1), (3, 4), (0, 32), (128, 256), (256, 269)]\n",
      "GET : 0.3.1.1.2\n",
      "[(0, 1), (3, 4), (32, 45), (128, 256), (256, 269)]\n",
      "(1, 1, 32, 128, 128)\n",
      "True\n",
      "GET : 0.3.0.2.0\n",
      "[(0, 1), (3, 4), (0, 32), (256, 384), (0, 128)]\n",
      "(1, 1, 13, 128, 13)\n",
      "GET : 0.3.1.2.0\n",
      "[(0, 1), (3, 4), (32, 45), (256, 384), (0, 128)]\n",
      "(1, 1, 32, 128, 128)\n",
      "True\n",
      "(1, 1, 32, 128, 128)\n",
      "True\n",
      "GET : 0.3.0.2.1\n",
      "[(0, 1), (3, 4), (0, 32), (256, 384), (128, 256)]\n",
      "GET : 0.3.1.2.1\n",
      "[(0, 1), (3, 4), (32, 45), (256, 384), (128, 256)]\n",
      "(1, 1, 13, 128, 13)\n",
      "(1, 1, 13, 128, 128)\n",
      "(1, 1, 13, 128, 128)\n",
      "(1, 1, 32, 128, 128)\n",
      "True\n",
      "GET : 0.3.0.2.2\n",
      "[(0, 1), (3, 4), (0, 32), (256, 384), (256, 269)]\n",
      "GET : 0.3.1.2.2\n",
      "[(0, 1), (3, 4), (32, 45), (256, 384), (256, 269)]\n",
      "GET : 0.3.0.3.0\n",
      "[(0, 1), (3, 4), (0, 32), (384, 512), (0, 128)]\n",
      "GET : 0.3.1.3.0\n",
      "[(0, 1), (3, 4), (32, 45), (384, 512), (0, 128)]\n",
      "(1, 1, 13, 128, 128)\n",
      "GET : 0.3.0.3.1\n",
      "[(0, 1), (3, 4), (0, 32), (384, 512), (128, 256)]\n",
      "(1, 1, 13, 128, 128)\n",
      "(1, 1, 32, 128, 13)\n",
      "(1, 1, 13, 128, 128)\n",
      "(1, 1, 13, 128, 128)\n",
      "GET : 0.3.1.3.1\n",
      "[(0, 1), (3, 4), (32, 45), (384, 512), (128, 256)]\n",
      "GET : 0.3.0.3.2\n",
      "[(0, 1), (3, 4), (0, 32), (384, 512), (256, 269)]\n",
      "GET : 0.3.1.3.2\n",
      "[(0, 1), (3, 4), (32, 45), (384, 512), (256, 269)]\n",
      "GET : 0.3.0.4.0\n",
      "[(0, 1), (3, 4), (0, 32), (512, 548), (0, 128)]\n",
      "(1, 1, 13, 128, 13)\n",
      "GET : 0.3.1.4.0\n",
      "[(0, 1), (3, 4), (32, 45), (512, 548), (0, 128)]\n",
      "(1, 1, 13, 128, 128)\n",
      "GET : 0.3.0.4.1\n",
      "[(0, 1), (3, 4), (0, 32), (512, 548), (128, 256)]\n",
      "(1, 1, 32, 128, 13)\n",
      "(1, 1, 13, 36, 128)\n",
      "(1, 1, 13, 128, 128)\n",
      "(1, 1, 32, 128, 128)\n",
      "True\n",
      "(1, 1, 32, 128, 13)\n",
      "GET : 0.3.1.4.1\n",
      "[(0, 1), (3, 4), (32, 45), (512, 548), (128, 256)]\n",
      "GET : 0.3.0.4.2\n",
      "[(0, 1), (3, 4), (0, 32), (512, 548), (256, 269)]\n",
      "GET : 0.3.1.4.2\n",
      "[(0, 1), (3, 4), (32, 45), (512, 548), (256, 269)]\n",
      "(1, 1, 32, 128, 13)\n",
      "(1, 1, 32, 36, 128)\n",
      "(1, 1, 13, 128, 13)\n",
      "(1, 1, 32, 128, 128)\n",
      "True\n",
      "(1, 1, 32, 128, 128)\n",
      "True\n",
      "(1, 1, 13, 36, 13)\n",
      "(1, 1, 13, 36, 128)\n",
      "(1, 1, 32, 128, 128)\n",
      "True\n",
      "(1, 1, 32, 36, 13)\n",
      "(1, 1, 32, 36, 128)\n"
     ]
    }
   ],
   "source": [
    "from imaris_ims_file_reader.ims import ims\n",
    "import zarr\n",
    "import dask.array as da\n",
    "\n",
    "resolution_level = 3 \n",
    "\n",
    "store = ims(folder / filename, ResolutionLevelLock=resolution_level, aszarr=True)\n",
    "\n",
    "img = da.from_zarr(store)\n",
    "nuclei = da.max(img[0,3],0).compute().squeeze()"
   ]
  },
  {
   "cell_type": "code",
   "execution_count": 40,
   "metadata": {},
   "outputs": [],
   "source": [
    "import napari\n",
    "v = napari.view_image(nuclei)"
   ]
  },
  {
   "cell_type": "markdown",
   "metadata": {},
   "source": [
    "Add regions of interest in napari"
   ]
  },
  {
   "cell_type": "code",
   "execution_count": 43,
   "metadata": {},
   "outputs": [],
   "source": [
    "s = v.layers[-1]\n"
   ]
  },
  {
   "cell_type": "markdown",
   "metadata": {},
   "source": [
    "Export the region"
   ]
  },
  {
   "cell_type": "code",
   "execution_count": 61,
   "metadata": {},
   "outputs": [
    {
     "data": {
      "text/html": [
       "<div>\n",
       "<style scoped>\n",
       "    .dataframe tbody tr th:only-of-type {\n",
       "        vertical-align: middle;\n",
       "    }\n",
       "\n",
       "    .dataframe tbody tr th {\n",
       "        vertical-align: top;\n",
       "    }\n",
       "\n",
       "    .dataframe thead th {\n",
       "        text-align: right;\n",
       "    }\n",
       "</style>\n",
       "<table border=\"1\" class=\"dataframe\">\n",
       "  <thead>\n",
       "    <tr style=\"text-align: right;\">\n",
       "      <th></th>\n",
       "      <th>y</th>\n",
       "      <th>x</th>\n",
       "      <th>roi</th>\n",
       "    </tr>\n",
       "  </thead>\n",
       "  <tbody>\n",
       "    <tr>\n",
       "      <th>0</th>\n",
       "      <td>63.038301</td>\n",
       "      <td>111.583118</td>\n",
       "      <td>0</td>\n",
       "    </tr>\n",
       "    <tr>\n",
       "      <th>1</th>\n",
       "      <td>122.150338</td>\n",
       "      <td>183.831163</td>\n",
       "      <td>0</td>\n",
       "    </tr>\n",
       "    <tr>\n",
       "      <th>2</th>\n",
       "      <td>234.091973</td>\n",
       "      <td>218.099011</td>\n",
       "      <td>0</td>\n",
       "    </tr>\n",
       "    <tr>\n",
       "      <th>3</th>\n",
       "      <td>312.051326</td>\n",
       "      <td>230.949454</td>\n",
       "      <td>0</td>\n",
       "    </tr>\n",
       "    <tr>\n",
       "      <th>4</th>\n",
       "      <td>386.012763</td>\n",
       "      <td>233.233977</td>\n",
       "      <td>0</td>\n",
       "    </tr>\n",
       "  </tbody>\n",
       "</table>\n",
       "</div>"
      ],
      "text/plain": [
       "            y           x  roi\n",
       "0   63.038301  111.583118    0\n",
       "1  122.150338  183.831163    0\n",
       "2  234.091973  218.099011    0\n",
       "3  312.051326  230.949454    0\n",
       "4  386.012763  233.233977    0"
      ]
     },
     "execution_count": 61,
     "metadata": {},
     "output_type": "execute_result"
    }
   ],
   "source": [
    "import pandas as pd\n",
    "\n",
    "poly = pd.concat([pd.DataFrame({\n",
    "    'y':resolution_level * p[:,0],\n",
    "    'x':resolution_level * p[:,1],\n",
    "    'roi':[k]*p.shape[0]}) \n",
    "    for k,p in enumerate(v.layers[-1].data)])\n",
    "\n",
    "poly.to_csv(destdir/'regions.csv',index=False)\n",
    "poly.head()"
   ]
  },
  {
   "cell_type": "code",
   "execution_count": 63,
   "metadata": {},
   "outputs": [],
   "source": [
    "poly = pd.read_csv(destdir/'regions.csv')"
   ]
  },
  {
   "cell_type": "code",
   "execution_count": 68,
   "metadata": {},
   "outputs": [],
   "source": [
    "sdata = [np.stack((g['y'],g['x']),1) for n,g in poly.groupby('roi')]\n",
    "rois = napari.layers.Shapes(sdata,shape_type='polygon').to_labels()"
   ]
  },
  {
   "cell_type": "code",
   "execution_count": 71,
   "metadata": {},
   "outputs": [
    {
     "data": {
      "text/plain": [
       "<matplotlib.image.AxesImage at 0x7f4eaa52ba00>"
      ]
     },
     "execution_count": 71,
     "metadata": {},
     "output_type": "execute_result"
    },
    {
     "data": {
      "image/png": "[encoded data removed]",
      "text/plain": [
       "<Figure size 640x480 with 1 Axes>"
      ]
     },
     "metadata": {},
     "output_type": "display_data"
    }
   ],
   "source": [
    "import matplotlib.pyplot as plt\n",
    "plt.imshow(rois)"
   ]
  },
  {
   "cell_type": "code",
   "execution_count": null,
   "metadata": {},
   "outputs": [],
   "source": [
    "rois = s.to_labels()"
   ]
  },
  {
   "cell_type": "code",
   "execution_count": 21,
   "metadata": {},
   "outputs": [],
   "source": [
    "tmp = np.load('tmp.npz')"
   ]
  },
  {
   "cell_type": "code",
   "execution_count": 24,
   "metadata": {},
   "outputs": [
    {
     "ename": "KeyError",
     "evalue": "'a is not a file in the archive'",
     "output_type": "error",
     "traceback": [
      "\u001b[0;31m---------------------------------------------------------------------------\u001b[0m",
      "\u001b[0;31mKeyError\u001b[0m                                  Traceback (most recent call last)",
      "Cell \u001b[0;32mIn[24], line 2\u001b[0m\n\u001b[1;32m      1\u001b[0m \u001b[38;5;28;01mwith\u001b[39;00m np\u001b[38;5;241m.\u001b[39mload(\u001b[38;5;124m'\u001b[39m\u001b[38;5;124mtmp.npz\u001b[39m\u001b[38;5;124m'\u001b[39m) \u001b[38;5;28;01mas\u001b[39;00m data:\n\u001b[0;32m----> 2\u001b[0m     a \u001b[38;5;241m=\u001b[39m \u001b[43mdata\u001b[49m\u001b[43m[\u001b[49m\u001b[38;5;124;43m'\u001b[39;49m\u001b[38;5;124;43ma\u001b[39;49m\u001b[38;5;124;43m'\u001b[39;49m\u001b[43m]\u001b[49m\n",
      "File \u001b[0;32m~/miniconda3/envs/imaging/lib/python3.9/site-packages/numpy/lib/npyio.py:260\u001b[0m, in \u001b[0;36mNpzFile.__getitem__\u001b[0;34m(self, key)\u001b[0m\n\u001b[1;32m    258\u001b[0m         \u001b[38;5;28;01mreturn\u001b[39;00m \u001b[38;5;28mself\u001b[39m\u001b[38;5;241m.\u001b[39mzip\u001b[38;5;241m.\u001b[39mread(key)\n\u001b[1;32m    259\u001b[0m \u001b[38;5;28;01melse\u001b[39;00m:\n\u001b[0;32m--> 260\u001b[0m     \u001b[38;5;28;01mraise\u001b[39;00m \u001b[38;5;167;01mKeyError\u001b[39;00m(\u001b[38;5;124m\"\u001b[39m\u001b[38;5;132;01m%s\u001b[39;00m\u001b[38;5;124m is not a file in the archive\u001b[39m\u001b[38;5;124m\"\u001b[39m \u001b[38;5;241m%\u001b[39m key)\n",
      "\u001b[0;31mKeyError\u001b[0m: 'a is not a file in the archive'"
     ]
    }
   ],
   "source": [
    "with np.load('tmp.npz') as data:\n",
    "    a = data['']"
   ]
  }
 ],
 "metadata": {
  "kernelspec": {
   "display_name": "imaging",
   "language": "python",
   "name": "python3"
  },
  "language_info": {
   "codemirror_mode": {
    "name": "ipython",
    "version": 3
   },
   "file_extension": ".py",
   "mimetype": "text/x-python",
   "name": "python",
   "nbconvert_exporter": "python",
   "pygments_lexer": "ipython3",
   "version": "3.9.16"
  }
 },
 "nbformat": 4,
 "nbformat_minor": 2
}
