{
 "cells": [
  {
   "cell_type": "markdown",
   "metadata": {},
   "source": [
    "# Visualization and statistical analysis\n",
    "\n",
    "Save the results as a 'destination folder/*-stats.csv' file"
   ]
  },
  {
   "cell_type": "markdown",
   "metadata": {},
   "source": [
    "Define the result folder"
   ]
  },
  {
   "cell_type": "code",
   "execution_count": 5,
   "metadata": {},
   "outputs": [
    {
     "data": {
      "application/vnd.jupyter.widget-view+json": {
       "model_id": "dbcd9945d18a46869de36ab6c063d850",
       "version_major": 2,
       "version_minor": 0
      },
      "text/plain": [
       "FileChooser(path='/home/jeromeb/work/code/octopus/results', filename='', title='', show_hidden=False, select_d…"
      ]
     },
     "metadata": {},
     "output_type": "display_data"
    }
   ],
   "source": [
    "import yaml\n",
    "from pathlib import Path\n",
    "from ipyfilechooser import FileChooser\n",
    "srcdir, dstdir = '', ''\n",
    "if Path(\"config.yml\").exists():\n",
    "    with open(\"config.yml\", \"r\") as file:    \n",
    "        config = yaml.safe_load(file)\n",
    "        if 'source' in config.keys():\n",
    "            srcdir = Path(config[\"source\"])        \n",
    "        if 'destination' in config.keys():\n",
    "            dstdir = Path(config[\"destination\"]) \n",
    "\n",
    "fc = FileChooser(dstdir, select_desc='Destination')\n",
    "display(fc)"
   ]
  },
  {
   "cell_type": "code",
   "execution_count": 10,
   "metadata": {},
   "outputs": [
    {
     "data": {
      "text/html": [
       "<div>\n",
       "<style scoped>\n",
       "    .dataframe tbody tr th:only-of-type {\n",
       "        vertical-align: middle;\n",
       "    }\n",
       "\n",
       "    .dataframe tbody tr th {\n",
       "        vertical-align: top;\n",
       "    }\n",
       "\n",
       "    .dataframe thead th {\n",
       "        text-align: right;\n",
       "    }\n",
       "</style>\n",
       "<table border=\"1\" class=\"dataframe\">\n",
       "  <thead>\n",
       "    <tr style=\"text-align: right;\">\n",
       "      <th></th>\n",
       "      <th>folder</th>\n",
       "      <th>name</th>\n",
       "      <th>channel1</th>\n",
       "      <th>channel2</th>\n",
       "      <th>channel3</th>\n",
       "      <th>channel4</th>\n",
       "    </tr>\n",
       "  </thead>\n",
       "  <tbody>\n",
       "    <tr>\n",
       "      <th>0</th>\n",
       "      <td>/media/cephfs/acourtney/HCR_Octopus_Jerome/Feb...</td>\n",
       "      <td>2023_13Dec_4a17Dec_F2_Stitched_Cropped_ForAnal...</td>\n",
       "      <td>vglut_B4_546</td>\n",
       "      <td>ppp1_B1_647</td>\n",
       "      <td>Th_B3_488</td>\n",
       "      <td>Nuclei</td>\n",
       "    </tr>\n",
       "    <tr>\n",
       "      <th>1</th>\n",
       "      <td>/media/cephfs/acourtney/HCR_Octopus_Jerome/Feb...</td>\n",
       "      <td>2023_12Dec_2a17Dec_F2_Stitched_Cropped_ForAnal...</td>\n",
       "      <td>tbh_B4_546</td>\n",
       "      <td>LGC007_B3_647</td>\n",
       "      <td>vacht_B2_488</td>\n",
       "      <td>Nuclei</td>\n",
       "    </tr>\n",
       "    <tr>\n",
       "      <th>2</th>\n",
       "      <td>/media/cephfs/acourtney/HCR_Octopus_Jerome/Feb...</td>\n",
       "      <td>2023_20Dec_2aBatch2_12Dec_F1_Stitched_Cropped_...</td>\n",
       "      <td>LGC041_B2_546</td>\n",
       "      <td>LGC046_B2_647</td>\n",
       "      <td>Th_B3_488</td>\n",
       "      <td>Nuclei</td>\n",
       "    </tr>\n",
       "    <tr>\n",
       "      <th>3</th>\n",
       "      <td>/media/cephfs/acourtney/HCR_Octopus_Jerome/Feb...</td>\n",
       "      <td>14Aug2023_3b_Slices_F1_Stitched_Cropped_ForAna...</td>\n",
       "      <td>LGC009_B1_647</td>\n",
       "      <td>vglut_B4_546</td>\n",
       "      <td>Th_B3_488</td>\n",
       "      <td>Nuclei</td>\n",
       "    </tr>\n",
       "  </tbody>\n",
       "</table>\n",
       "</div>"
      ],
      "text/plain": [
       "                                              folder  \\\n",
       "0  /media/cephfs/acourtney/HCR_Octopus_Jerome/Feb...   \n",
       "1  /media/cephfs/acourtney/HCR_Octopus_Jerome/Feb...   \n",
       "2  /media/cephfs/acourtney/HCR_Octopus_Jerome/Feb...   \n",
       "3  /media/cephfs/acourtney/HCR_Octopus_Jerome/Feb...   \n",
       "\n",
       "                                                name       channel1  \\\n",
       "0  2023_13Dec_4a17Dec_F2_Stitched_Cropped_ForAnal...   vglut_B4_546   \n",
       "1  2023_12Dec_2a17Dec_F2_Stitched_Cropped_ForAnal...     tbh_B4_546   \n",
       "2  2023_20Dec_2aBatch2_12Dec_F1_Stitched_Cropped_...  LGC041_B2_546   \n",
       "3  14Aug2023_3b_Slices_F1_Stitched_Cropped_ForAna...  LGC009_B1_647   \n",
       "\n",
       "        channel2      channel3 channel4  \n",
       "0    ppp1_B1_647     Th_B3_488   Nuclei  \n",
       "1  LGC007_B3_647  vacht_B2_488   Nuclei  \n",
       "2  LGC046_B2_647     Th_B3_488   Nuclei  \n",
       "3   vglut_B4_546     Th_B3_488   Nuclei  "
      ]
     },
     "execution_count": 10,
     "metadata": {},
     "output_type": "execute_result"
    }
   ],
   "source": [
    "import pandas as pd\n",
    "dstdir = Path(fc.selected) if fc.selected is not None else Path(dstdir)\n",
    "filelistname = dstdir / 'filelist.csv'\n",
    "filelist = pd.read_csv(filelistname)\n",
    "filelist"
   ]
  },
  {
   "cell_type": "code",
   "execution_count": 18,
   "metadata": {},
   "outputs": [],
   "source": [
    "from itertools import chain, combinations\n",
    "from functools import partial\n",
    "import numpy as np\n",
    "import tifffile\n",
    "import napari\n",
    "\n",
    "def get_files(dstdir, row, key=None):\n",
    "    if key == 'ims':\n",
    "        return Path(row['folder']) / row['name']\n",
    "    elif key == 'regions':\n",
    "        return Path(dstdir / str(row[\"name\"]).replace('.ims','-regions.json'))\n",
    "    elif key == 'labels':\n",
    "        return Path(dstdir / str(row['name']).replace('.ims','-labels.tif'))\n",
    "    elif key == 'measurements':\n",
    "        return Path(dstdir / str(row['name']).replace('.ims','-measurements.csv'))\n",
    "    elif key == 'stats':\n",
    "        return Path(dstdir / str(row['name']).replace('.ims','-stats.csv'))\n",
    "    else:\n",
    "        return {\n",
    "            'ims': get_files(dstdir, row, 'ims'),\n",
    "            'regions': get_files(dstdir, row, 'regions'),\n",
    "            'labels': get_files(dstdir, row, 'labels'),\n",
    "            'measurements':  get_files(dstdir, row, 'measurements')\n",
    "        }\n",
    "    \n",
    "def get_measurement_channels(df,prefix='c'):\n",
    "    \"\"\"List the channels name from the measurement data\"\"\"\n",
    "    return [f'{prefix}{k}' for k in range(10) if f'{prefix}{k}' in df.columns]\n",
    "    \n",
    "def create_heatmaps(labels, df):    \n",
    "    channel_columns = [f'c{k}' for k in range(10) if f'c{k}' in df.columns]\n",
    "\n",
    "    heatmaps = np.zeros([len(channel_columns), *labels.shape])\n",
    "    for row in df.iloc:\n",
    "        for k, c in enumerate(channel_columns):\n",
    "                heatmaps[k][labels == row['label']] = row[c]  \n",
    "    return heatmaps\n",
    "\n",
    "def madstd(x):\n",
    "    \"\"\"Median std\"\"\"\n",
    "    return 1.48 * np.median(np.abs(x-np.median(x)))\n",
    "\n",
    "def powerset(iterable):\n",
    "    \"\"\"Compute the powerset of iterable\"\"\"\n",
    "    s = list(iterable)\n",
    "    return chain.from_iterable(combinations(s, r) for r in range(len(s)+1))\n",
    "\n",
    "def encode(row, channels, thresholds, encoder):\n",
    "    \"\"\"compute a code from the channels columns and the tresholds\"\"\"\n",
    "    t = tuple([c for c in channels if row[c] > thresholds[c]])\n",
    "    return encoder[t]\n",
    "\n",
    "def encode_channels(df, channels, thresholds):\n",
    "    \"\"\"Encode the channel in the data frame based on intensity (in place)\n",
    "    \n",
    "    Parameters\n",
    "    ----------\n",
    "    df : pd.DataFrame\n",
    "    channels : List[str]\n",
    "        list of channel names\n",
    "    thresholds: List[float]\n",
    "        list of threshold values\n",
    "    \n",
    "    Returns\n",
    "    -------\n",
    "    \n",
    "    \"\"\"\n",
    "    pset = [x for x in powerset(channels)]    \n",
    "    encoder = {x:k for k,x in enumerate(pset)}    \n",
    "    decoder = {k:x for k,x in enumerate(pset)}\n",
    "    decoder[0] = 'none'\n",
    "    #df.drop('code id', inplace=True)\n",
    "    #df.drop('code str', inplace=True)\n",
    "    df['code id'] = df.apply(partial(encode, channels=channels, encoder=encoder, thresholds=thresholds), axis=1)\n",
    "    decode_str = {a:b for a,b in enumerate([''.join([str(e) for e in k]) for k in encoder.keys()])}\n",
    "    df['code str'] = [decode_str[k] for k in df['code id']]\n",
    "    return encoder, decoder\n",
    "\n",
    "def create_codemaps(labels, df, decoder):\n",
    "    \"\"\"Create a map of the binary codes\n",
    "    Note add 1 to the code so that it is not set to background\n",
    "    \"\"\"\n",
    "    stack = np.zeros(labels.shape, dtype=np.uint8)\n",
    "    for row in df.iloc:\n",
    "        stack[labels == row['label']] = row['code id'] + 1        \n",
    "    features = pd.DataFrame({'code':[ 'background', *[''.join(decoder[k]) for k in decoder ]]})\n",
    "    return stack, features\n"
   ]
  },
  {
   "cell_type": "code",
   "execution_count": 12,
   "metadata": {},
   "outputs": [
    {
     "data": {
      "application/vnd.jupyter.widget-view+json": {
       "model_id": "bf91c780bc434edbb46c67f65efe0a96",
       "version_major": 2,
       "version_minor": 0
      },
      "text/plain": [
       "Dropdown(description='Image:', index=1, options=(('2023_13Dec_4a17Dec_F2_Stitched_Cropped_ForAnalysis.ims', 0)…"
      ]
     },
     "metadata": {},
     "output_type": "display_data"
    }
   ],
   "source": [
    "import ipywidgets as widgets\n",
    "w = widgets.Dropdown(\n",
    "    options=[(x,k) for k,x in enumerate(filelist['name'])],\n",
    "    value=1,\n",
    "    description='Image:'\n",
    ")\n",
    "display(w)"
   ]
  },
  {
   "cell_type": "markdown",
   "metadata": {},
   "source": [
    "Load the image"
   ]
  },
  {
   "cell_type": "code",
   "execution_count": 13,
   "metadata": {},
   "outputs": [
    {
     "name": "stdout",
     "output_type": "stream",
     "text": [
      "Opening readonly file: /media/cephfs/acourtney/HCR_Octopus_Jerome/Febuary2024/test_15024/2023_12Dec_2a17Dec_F2_Stitched_Cropped_ForAnalysis.ims \n",
      "\n"
     ]
    }
   ],
   "source": [
    "from imaris_ims_file_reader.ims import ims\n",
    "row = filelist.iloc[w.value]\n",
    "resolution_level = 1 # need to be the same than the one used for processing\n",
    "img = ims(get_files(dstdir, row, 'ims'), ResolutionLevelLock=resolution_level)"
   ]
  },
  {
   "cell_type": "markdown",
   "metadata": {},
   "source": [
    "Add codes to the dataframe"
   ]
  },
  {
   "cell_type": "code",
   "execution_count": 21,
   "metadata": {},
   "outputs": [],
   "source": [
    "labels = tifffile.imread(get_files(dstdir, row, 'labels'))\n",
    "\n",
    "df = pd.read_csv(get_files(dstdir, row, 'measurements'), index_col=0)\n",
    "df = pd.DataFrame(df.to_records())\n",
    "\n",
    "channels = get_measurement_channels(df,'ch')\n",
    "\n",
    "# compute the thresholds\n",
    "thresholds = {c:df[c].median() + 0.5 * madstd(df[c]) for c in channels}            \n",
    "\n",
    "for k,c in enumerate(channels):\n",
    "    df[f'z{k}'] = (df[c] - df[c].median()) / madstd(df[c])\n",
    "\n",
    "encoder, decoder = encode_channels(df, channels, thresholds)\n",
    "df = df[ df['code id'] !=0 ] \n"
   ]
  },
  {
   "cell_type": "code",
   "execution_count": 50,
   "metadata": {},
   "outputs": [
    {
     "data": {
      "text/plain": [
       "['tbh_B4_546', 'LGC007_B3_647', 'Nuclei']"
      ]
     },
     "execution_count": 50,
     "metadata": {},
     "output_type": "execute_result"
    }
   ],
   "source": [
    "#def map_channels_names(channels):\n",
    "\n",
    "#map_channels_names()\n",
    "get_measurement_channels(row.to_frame().T,'channel')\n",
    "#row[f'channel{k+1}']\n",
    "names = {f'c{k}':row[f'channel{k+1}'] for k in range(4)}\n",
    "channels = ['c0','c1','c3']\n",
    "[names[c] for c in channels]\n",
    "\n"
   ]
  },
  {
   "cell_type": "markdown",
   "metadata": {},
   "source": [
    "Compute the map"
   ]
  },
  {
   "cell_type": "code",
   "execution_count": 22,
   "metadata": {},
   "outputs": [],
   "source": [
    "codemaps, features = create_codemaps(labels, df, decoder)"
   ]
  },
  {
   "cell_type": "markdown",
   "metadata": {},
   "source": [
    "Visualize the result\n",
    "- toggle the label layer to visualize the codes\n",
    "- on the codemaps layer, tick the 'show selected' option and run through the labels to display the cells code by code"
   ]
  },
  {
   "cell_type": "code",
   "execution_count": 18,
   "metadata": {},
   "outputs": [
    {
     "data": {
      "text/plain": [
       "<Labels layer 'codemaps' at 0x7f3d30bf22a0>"
      ]
     },
     "execution_count": 18,
     "metadata": {},
     "output_type": "execute_result"
    }
   ],
   "source": [
    "v = napari.view_image(img, channel_axis=0)\n",
    "v.add_labels(labels)\n",
    "v.add_labels(codemaps, features=features)"
   ]
  },
  {
   "cell_type": "code",
   "execution_count": 10,
   "metadata": {},
   "outputs": [
    {
     "data": {
      "image/png": "[encoded data removed]",
      "text/plain": [
       "<Figure size 1500x500 with 7 Axes>"
      ]
     },
     "metadata": {},
     "output_type": "display_data"
    }
   ],
   "source": [
    "import matplotlib.pyplot as plt\n",
    "fig, ax = plt.subplots(1,7,figsize=(15,5))\n",
    "for k in range(1,8):    \n",
    "    ax[k-1].imshow(np.amax(codemaps[:,::4,::4]==k,0), cmap='gray')\n",
    "    ax[k-1].set(title=f'{decoder[k]}')\n",
    "    ax[k-1].set_axis_off()"
   ]
  },
  {
   "cell_type": "code",
   "execution_count": 11,
   "metadata": {},
   "outputs": [
    {
     "data": {
      "text/html": [
       "<div>\n",
       "<style scoped>\n",
       "    .dataframe tbody tr th:only-of-type {\n",
       "        vertical-align: middle;\n",
       "    }\n",
       "\n",
       "    .dataframe tbody tr th {\n",
       "        vertical-align: top;\n",
       "    }\n",
       "\n",
       "    .dataframe thead th {\n",
       "        text-align: right;\n",
       "    }\n",
       "</style>\n",
       "<table border=\"1\" class=\"dataframe\">\n",
       "  <thead>\n",
       "    <tr style=\"text-align: right;\">\n",
       "      <th>code str</th>\n",
       "      <th>ch1</th>\n",
       "      <th>ch1ch2</th>\n",
       "      <th>ch1ch2ch3</th>\n",
       "      <th>ch1ch3</th>\n",
       "      <th>ch2</th>\n",
       "      <th>ch2ch3</th>\n",
       "      <th>ch3</th>\n",
       "    </tr>\n",
       "    <tr>\n",
       "      <th>roi</th>\n",
       "      <th></th>\n",
       "      <th></th>\n",
       "      <th></th>\n",
       "      <th></th>\n",
       "      <th></th>\n",
       "      <th></th>\n",
       "      <th></th>\n",
       "    </tr>\n",
       "  </thead>\n",
       "  <tbody>\n",
       "    <tr>\n",
       "      <th>0.0</th>\n",
       "      <td>55.0</td>\n",
       "      <td>68.0</td>\n",
       "      <td>90.0</td>\n",
       "      <td>77.0</td>\n",
       "      <td>86.0</td>\n",
       "      <td>30.0</td>\n",
       "      <td>92.0</td>\n",
       "    </tr>\n",
       "    <tr>\n",
       "      <th>1.0</th>\n",
       "      <td>26.0</td>\n",
       "      <td>132.0</td>\n",
       "      <td>15.0</td>\n",
       "      <td>2.0</td>\n",
       "      <td>149.0</td>\n",
       "      <td>3.0</td>\n",
       "      <td>0.0</td>\n",
       "    </tr>\n",
       "    <tr>\n",
       "      <th>2.0</th>\n",
       "      <td>9.0</td>\n",
       "      <td>17.0</td>\n",
       "      <td>58.0</td>\n",
       "      <td>38.0</td>\n",
       "      <td>47.0</td>\n",
       "      <td>49.0</td>\n",
       "      <td>92.0</td>\n",
       "    </tr>\n",
       "    <tr>\n",
       "      <th>3.0</th>\n",
       "      <td>23.0</td>\n",
       "      <td>6.0</td>\n",
       "      <td>35.0</td>\n",
       "      <td>44.0</td>\n",
       "      <td>13.0</td>\n",
       "      <td>11.0</td>\n",
       "      <td>129.0</td>\n",
       "    </tr>\n",
       "  </tbody>\n",
       "</table>\n",
       "</div>"
      ],
      "text/plain": [
       "code str   ch1  ch1ch2  ch1ch2ch3  ch1ch3    ch2  ch2ch3    ch3\n",
       "roi                                                            \n",
       "0.0       55.0    68.0       90.0    77.0   86.0    30.0   92.0\n",
       "1.0       26.0   132.0       15.0     2.0  149.0     3.0    0.0\n",
       "2.0        9.0    17.0       58.0    38.0   47.0    49.0   92.0\n",
       "3.0       23.0     6.0       35.0    44.0   13.0    11.0  129.0"
      ]
     },
     "execution_count": 11,
     "metadata": {},
     "output_type": "execute_result"
    }
   ],
   "source": [
    "tbl = pd.pivot_table(df.groupby(['roi','code str'])['label'].agg('count').to_frame(), values='label', index='roi',columns='code str').fillna(0)\n",
    "tbl"
   ]
  },
  {
   "cell_type": "code",
   "execution_count": 12,
   "metadata": {},
   "outputs": [
    {
     "data": {
      "text/html": [
       "<div>\n",
       "<style scoped>\n",
       "    .dataframe tbody tr th:only-of-type {\n",
       "        vertical-align: middle;\n",
       "    }\n",
       "\n",
       "    .dataframe tbody tr th {\n",
       "        vertical-align: top;\n",
       "    }\n",
       "\n",
       "    .dataframe thead th {\n",
       "        text-align: right;\n",
       "    }\n",
       "</style>\n",
       "<table border=\"1\" class=\"dataframe\">\n",
       "  <thead>\n",
       "    <tr style=\"text-align: right;\">\n",
       "      <th>code str</th>\n",
       "      <th>ch1</th>\n",
       "      <th>ch1ch2</th>\n",
       "      <th>ch1ch2ch3</th>\n",
       "      <th>ch1ch3</th>\n",
       "      <th>ch2</th>\n",
       "      <th>ch2ch3</th>\n",
       "      <th>ch3</th>\n",
       "    </tr>\n",
       "    <tr>\n",
       "      <th>roi</th>\n",
       "      <th></th>\n",
       "      <th></th>\n",
       "      <th></th>\n",
       "      <th></th>\n",
       "      <th></th>\n",
       "      <th></th>\n",
       "      <th></th>\n",
       "    </tr>\n",
       "  </thead>\n",
       "  <tbody>\n",
       "    <tr>\n",
       "      <th>0.0</th>\n",
       "      <td>11.044177</td>\n",
       "      <td>13.654618</td>\n",
       "      <td>18.072289</td>\n",
       "      <td>15.461847</td>\n",
       "      <td>17.269076</td>\n",
       "      <td>6.024096</td>\n",
       "      <td>18.473896</td>\n",
       "    </tr>\n",
       "    <tr>\n",
       "      <th>1.0</th>\n",
       "      <td>7.951070</td>\n",
       "      <td>40.366972</td>\n",
       "      <td>4.587156</td>\n",
       "      <td>0.611621</td>\n",
       "      <td>45.565749</td>\n",
       "      <td>0.917431</td>\n",
       "      <td>0.000000</td>\n",
       "    </tr>\n",
       "    <tr>\n",
       "      <th>2.0</th>\n",
       "      <td>2.903226</td>\n",
       "      <td>5.483871</td>\n",
       "      <td>18.709677</td>\n",
       "      <td>12.258065</td>\n",
       "      <td>15.161290</td>\n",
       "      <td>15.806452</td>\n",
       "      <td>29.677419</td>\n",
       "    </tr>\n",
       "    <tr>\n",
       "      <th>3.0</th>\n",
       "      <td>8.812261</td>\n",
       "      <td>2.298851</td>\n",
       "      <td>13.409962</td>\n",
       "      <td>16.858238</td>\n",
       "      <td>4.980843</td>\n",
       "      <td>4.214559</td>\n",
       "      <td>49.425287</td>\n",
       "    </tr>\n",
       "  </tbody>\n",
       "</table>\n",
       "</div>"
      ],
      "text/plain": [
       "code str        ch1     ch1ch2  ch1ch2ch3     ch1ch3        ch2     ch2ch3  \\\n",
       "roi                                                                          \n",
       "0.0       11.044177  13.654618  18.072289  15.461847  17.269076   6.024096   \n",
       "1.0        7.951070  40.366972   4.587156   0.611621  45.565749   0.917431   \n",
       "2.0        2.903226   5.483871  18.709677  12.258065  15.161290  15.806452   \n",
       "3.0        8.812261   2.298851  13.409962  16.858238   4.980843   4.214559   \n",
       "\n",
       "code str        ch3  \n",
       "roi                  \n",
       "0.0       18.473896  \n",
       "1.0        0.000000  \n",
       "2.0       29.677419  \n",
       "3.0       49.425287  "
      ]
     },
     "execution_count": 12,
     "metadata": {},
     "output_type": "execute_result"
    }
   ],
   "source": [
    "relative = 100*tbl.div(tbl.sum(axis=1), axis=0)\n",
    "relative.to_csv(get_files(dstdir, row, 'stats'))\n",
    "relative\n"
   ]
  },
  {
   "cell_type": "code",
   "execution_count": 17,
   "metadata": {},
   "outputs": [
    {
     "data": {
      "text/plain": [
       "Text(0.5, 1.0, '2023_12Dec_2a17Dec_F2_Stitched_Cropped_ForAnalysis.ims')"
      ]
     },
     "execution_count": 17,
     "metadata": {},
     "output_type": "execute_result"
    },
    {
     "data": {
      "image/png": "[encoded data removed]",
      "text/plain": [
       "<Figure size 640x480 with 1 Axes>"
      ]
     },
     "metadata": {},
     "output_type": "display_data"
    }
   ],
   "source": [
    "relative.T.plot(kind='bar');\n",
    "plt.title(row['name'])"
   ]
  }
 ],
 "metadata": {
  "kernelspec": {
   "display_name": "imaging",
   "language": "python",
   "name": "python3"
  },
  "language_info": {
   "codemirror_mode": {
    "name": "ipython",
    "version": 3
   },
   "file_extension": ".py",
   "mimetype": "text/x-python",
   "name": "python",
   "nbconvert_exporter": "python",
   "pygments_lexer": "ipython3",
   "version": "3.12.2"
  }
 },
 "nbformat": 4,
 "nbformat_minor": 2
}
