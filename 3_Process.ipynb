{
 "cells": [
  {
   "cell_type": "markdown",
   "metadata": {},
   "source": [
    "# Processing of a list of images"
   ]
  },
  {
   "cell_type": "markdown",
   "metadata": {},
   "source": [
    "Select a result folder with the list of image files to process."
   ]
  },
  {
   "cell_type": "code",
   "execution_count": 2,
   "metadata": {},
   "outputs": [
    {
     "data": {
      "application/vnd.jupyter.widget-view+json": {
       "model_id": "7a7bde9146244079b04df006fc1c9432",
       "version_major": 2,
       "version_minor": 0
      },
      "text/plain": [
       "FileChooser(path='/home/jeromeb/work/code/octopus/results', filename='', title='', show_hidden=False, select_d…"
      ]
     },
     "metadata": {},
     "output_type": "display_data"
    }
   ],
   "source": [
    "import yaml\n",
    "from pathlib import Path\n",
    "from ipyfilechooser import FileChooser\n",
    "\n",
    "srcdir, dstdir = \"\", \"\"\n",
    "if Path(\"config.yml\").exists():\n",
    "    with open(\"config.yml\", \"r\") as file:\n",
    "        config = yaml.safe_load(file)\n",
    "        if \"source\" in config.keys():\n",
    "            srcdir = Path(config[\"source\"])\n",
    "        if \"destination\" in config.keys():\n",
    "            dstdir = Path(config[\"destination\"])\n",
    "\n",
    "fc = FileChooser(dstdir, select_desc=\"Destination\")\n",
    "display(fc)"
   ]
  },
  {
   "cell_type": "markdown",
   "metadata": {},
   "source": [
    "Load the list of files."
   ]
  },
  {
   "cell_type": "code",
   "execution_count": 3,
   "metadata": {},
   "outputs": [
    {
     "name": "stdout",
     "output_type": "stream",
     "text": [
      "Destination folder : /home/jeromeb/work/code/octopus/results\n",
      "Output file list : /home/jeromeb/work/code/octopus/results/filelist.csv\n"
     ]
    },
    {
     "data": {
      "text/html": [
       "<div>\n",
       "<style scoped>\n",
       "    .dataframe tbody tr th:only-of-type {\n",
       "        vertical-align: middle;\n",
       "    }\n",
       "\n",
       "    .dataframe tbody tr th {\n",
       "        vertical-align: top;\n",
       "    }\n",
       "\n",
       "    .dataframe thead th {\n",
       "        text-align: right;\n",
       "    }\n",
       "</style>\n",
       "<table border=\"1\" class=\"dataframe\">\n",
       "  <thead>\n",
       "    <tr style=\"text-align: right;\">\n",
       "      <th></th>\n",
       "      <th>folder</th>\n",
       "      <th>name</th>\n",
       "      <th>channel1</th>\n",
       "      <th>channel2</th>\n",
       "      <th>channel3</th>\n",
       "      <th>channel4</th>\n",
       "    </tr>\n",
       "  </thead>\n",
       "  <tbody>\n",
       "    <tr>\n",
       "      <th>0</th>\n",
       "      <td>/media/cephfs/acourtney/HCR_Octopus_Jerome/Feb...</td>\n",
       "      <td>2023_13Dec_4a17Dec_F2_Stitched_Cropped_ForAnal...</td>\n",
       "      <td>vglut_B4_546</td>\n",
       "      <td>ppp1_B1_647</td>\n",
       "      <td>Th_B3_488</td>\n",
       "      <td>Nuclei</td>\n",
       "    </tr>\n",
       "    <tr>\n",
       "      <th>1</th>\n",
       "      <td>/media/cephfs/acourtney/HCR_Octopus_Jerome/Feb...</td>\n",
       "      <td>2023_12Dec_2a17Dec_F2_Stitched_Cropped_ForAnal...</td>\n",
       "      <td>tbh_B4_546</td>\n",
       "      <td>LGC007_B3_647</td>\n",
       "      <td>vacht_B2_488</td>\n",
       "      <td>Nuclei</td>\n",
       "    </tr>\n",
       "    <tr>\n",
       "      <th>2</th>\n",
       "      <td>/media/cephfs/acourtney/HCR_Octopus_Jerome/Feb...</td>\n",
       "      <td>2023_20Dec_2aBatch2_12Dec_F1_Stitched_Cropped_...</td>\n",
       "      <td>LGC041_B2_546</td>\n",
       "      <td>LGC046_B2_647</td>\n",
       "      <td>Th_B3_488</td>\n",
       "      <td>Nuclei</td>\n",
       "    </tr>\n",
       "    <tr>\n",
       "      <th>3</th>\n",
       "      <td>/media/cephfs/acourtney/HCR_Octopus_Jerome/Feb...</td>\n",
       "      <td>14Aug2023_3b_Slices_F1_Stitched_Cropped_ForAna...</td>\n",
       "      <td>LGC009_B1_647</td>\n",
       "      <td>vglut_B4_546</td>\n",
       "      <td>Th_B3_488</td>\n",
       "      <td>Nuclei</td>\n",
       "    </tr>\n",
       "  </tbody>\n",
       "</table>\n",
       "</div>"
      ],
      "text/plain": [
       "                                              folder  \\\n",
       "0  /media/cephfs/acourtney/HCR_Octopus_Jerome/Feb...   \n",
       "1  /media/cephfs/acourtney/HCR_Octopus_Jerome/Feb...   \n",
       "2  /media/cephfs/acourtney/HCR_Octopus_Jerome/Feb...   \n",
       "3  /media/cephfs/acourtney/HCR_Octopus_Jerome/Feb...   \n",
       "\n",
       "                                                name       channel1  \\\n",
       "0  2023_13Dec_4a17Dec_F2_Stitched_Cropped_ForAnal...   vglut_B4_546   \n",
       "1  2023_12Dec_2a17Dec_F2_Stitched_Cropped_ForAnal...     tbh_B4_546   \n",
       "2  2023_20Dec_2aBatch2_12Dec_F1_Stitched_Cropped_...  LGC041_B2_546   \n",
       "3  14Aug2023_3b_Slices_F1_Stitched_Cropped_ForAna...  LGC009_B1_647   \n",
       "\n",
       "        channel2      channel3 channel4  \n",
       "0    ppp1_B1_647     Th_B3_488   Nuclei  \n",
       "1  LGC007_B3_647  vacht_B2_488   Nuclei  \n",
       "2  LGC046_B2_647     Th_B3_488   Nuclei  \n",
       "3   vglut_B4_546     Th_B3_488   Nuclei  "
      ]
     },
     "execution_count": 3,
     "metadata": {},
     "output_type": "execute_result"
    }
   ],
   "source": [
    "import pandas as pd\n",
    "\n",
    "dstdir = Path(fc.selected) if fc.selected is not None else Path(dstdir)\n",
    "filelistname = dstdir / \"filelist.csv\"\n",
    "print(\"Destination folder :\", dstdir)\n",
    "print(\"Output file list :\", filelistname)\n",
    "filelist = pd.read_csv(filelistname)\n",
    "filelist"
   ]
  },
  {
   "cell_type": "code",
   "execution_count": 33,
   "metadata": {},
   "outputs": [
    {
     "name": "stdout",
     "output_type": "stream",
     "text": [
      "3\n"
     ]
    },
    {
     "data": {
      "text/plain": [
       "[0, 1, 2]"
      ]
     },
     "execution_count": 33,
     "metadata": {},
     "output_type": "execute_result"
    }
   ],
   "source": [
    "row = filelist.iloc[0]\n",
    "channel = int(row[[x.lower() == 'nuclei' for x in row]].index.item().replace('channel',''))-1\n",
    "nchannels = 4\n",
    "print(channel)\n",
    "[ k for k  in range(nchannels) if k != channel ]\n"
   ]
  },
  {
   "cell_type": "code",
   "execution_count": 39,
   "metadata": {},
   "outputs": [
    {
     "data": {
      "text/plain": [
       "{'a': 1, 'c0': 0, 'c1': 1, 'c2': 2, 'c3': 3}"
      ]
     },
     "execution_count": 39,
     "metadata": {},
     "output_type": "execute_result"
    }
   ],
   "source": [
    "{'a':1, **{f'c{k}':k for k in range(4)}}"
   ]
  },
  {
   "cell_type": "markdown",
   "metadata": {},
   "source": [
    "Define processing functions"
   ]
  },
  {
   "cell_type": "code",
   "execution_count": 7,
   "metadata": {},
   "outputs": [],
   "source": [
    "import numpy as np\n",
    "import numpy.ma as ma\n",
    "import dask.array as da\n",
    "from skimage import measure\n",
    "import pandas as pd\n",
    "import json\n",
    "from imaris_ims_file_reader.ims import ims\n",
    "import tifffile\n",
    "import napari\n",
    "from scipy import ndimage as ndi\n",
    "\n",
    "\n",
    "def get_files(dstdir, row, key=None):\n",
    "    if key == \"ims\":\n",
    "        return Path(row[\"folder\"]) / row[\"name\"]\n",
    "    elif key == \"regions\":\n",
    "        return Path(dstdir / str(row[\"name\"]).replace(\".ims\", \"-regions.json\"))\n",
    "    elif key == \"labels\":\n",
    "        return Path(dstdir / str(row[\"name\"]).replace(\".ims\", \"-labels.tif\"))\n",
    "    elif key == \"measurements\":\n",
    "        return Path(dstdir / str(row[\"name\"]).replace(\".ims\", \"-measurements.csv\"))\n",
    "    else:\n",
    "        return {\n",
    "            \"ims\": get_files(dstdir, row, \"ims\"),\n",
    "            \"regions\": get_files(dstdir, row, \"regions\"),\n",
    "            \"labels\": get_files(dstdir, row, \"labels\"),\n",
    "            \"measurements\": get_files(dstdir, row, \"measurements\"),\n",
    "        }\n",
    "\n",
    "\n",
    "def load_regions_as_labels(dstdir: Path, row: pd.Series, shape, resolution_level: int):\n",
    "    \"\"\"Load regions as labels\n",
    "\n",
    "    Parameters\n",
    "    ----------\n",
    "    dstdir: pathlib.Path\n",
    "    row : pandas.Series\n",
    "    shape : List\n",
    "    resolution_level: int\n",
    "\n",
    "    Result\n",
    "    ------\n",
    "    rois: numnpy.ndarray\n",
    "        labels image\n",
    "    \"\"\"\n",
    "\n",
    "    with open(get_files(dstdir, row, \"regions\"), \"r\") as outfile:\n",
    "        poly = json.load(outfile)\n",
    "\n",
    "    c = pow(2, poly[\"resolution_level\"] - resolution_level)\n",
    "    sdata = [c * np.array(p) for p in poly[\"regions\"]]\n",
    "    rois2d = napari.layers.Shapes(sdata, shape_type=\"polygon\").to_labels(\n",
    "        labels_shape=[shape[1], shape[2]]\n",
    "    )\n",
    "    rois = np.zeros(shape)\n",
    "    for k in range(shape[0]):\n",
    "        rois[k, 0 : rois2d.shape[0], 0 : rois2d.shape[1]] = rois2d\n",
    "    return rois\n",
    "\n",
    "\n",
    "def preprocess(img):\n",
    "    \"\"\"Preprocess the image before FISH intensity measurement\n",
    "\n",
    "    Parameter\n",
    "    ---------\n",
    "    img : numpy.ndarray\n",
    "        input image\n",
    "    Result\n",
    "    ------\n",
    "    numpy.ndarray\n",
    "        result\n",
    "    \"\"\"\n",
    "    img = img.astype(np.float32)\n",
    "    d = ndi.gaussian_filter(img, 1) - ndi.gaussian_filter(img, 2)\n",
    "    t = 1.48 * np.median(np.abs(d - np.median(d)))\n",
    "    return np.maximum(0, d / t - 4)\n",
    "\n",
    "\n",
    "def preprocess(img):\n",
    "    \"\"\"Preprocess the image before FISH intensity measurement\n",
    "\n",
    "    Parameter\n",
    "    ---------\n",
    "    img : numpy.ndarray\n",
    "        input image\n",
    "    Result\n",
    "    ------\n",
    "    numpy.ndarray\n",
    "        result\n",
    "    \"\"\"\n",
    "    img = img.astype(np.float32)\n",
    "    # smooth tiles\n",
    "    tmp = img.copy()\n",
    "    tmp[tmp == 0] = np.mean(tmp[tmp > 0])\n",
    "    for _ in range(7):\n",
    "        tmp = ndi.gaussian_filter(tmp, [2, 2, 2])\n",
    "        tmp[img > 0] = img[img > 0]\n",
    "    # difference of Gaussians\n",
    "    d = ndi.gaussian_filter(tmp, [0.5, 1, 1]) - ndi.gaussian_filter(tmp, [1, 2, 2])\n",
    "    # relu with 4 std\n",
    "    t = 1.48 * np.median(np.abs(d - np.median(d)))\n",
    "    return np.maximum(0, d / t - 4)\n",
    "\n",
    "\n",
    "def record_intensity(labels, score, rois, channels):\n",
    "    z, y, x = np.meshgrid(*[np.arange(n) for n in labels.shape])\n",
    "    dst = []\n",
    "    label_list = np.unique(labels)\n",
    "    for idx in label_list[1:]:\n",
    "        mask = labels != idx\n",
    "        dst.append(\n",
    "            {\n",
    "                \"label\": idx,\n",
    "                \"roi\": ma.MaskedArray(rois, mask).min(),\n",
    "                \"x\": ma.MaskedArray(x, mask).mean(),\n",
    "                \"y\": ma.MaskedArray(y, mask).mean(),\n",
    "                \"z\": ma.MaskedArray(z, mask).mean(),\n",
    "                \"area\": np.logical_not(mask).sum(),\n",
    "                **{f'c{channels[k]}': ma.MaskedArray(score[0], mask).mean() for k in range(score.shape[0])},                \n",
    "            }\n",
    "        )\n",
    "    return pd.DataFrame.from_records(dst)\n",
    "\n",
    "\n",
    "def process_item(row, resolution_level: int, model, dstdir: Path):\n",
    "    \"\"\"Process a line of the input filelist\n",
    "\n",
    "    Segment the nuclei and measure the FISH signal\n",
    "    \"\"\"\n",
    "    \n",
    "    # identify the channel with nuclar label\n",
    "    nuclear_channel = int(row[[x.lower() == 'nuclei' for x in row]].index.item().replace('channel','')) - 1\n",
    "\n",
    "    # load the image\n",
    "    store = ims(\n",
    "        get_files(dstdir, row, \"ims\"), ResolutionLevelLock=resolution_level, aszarr=True\n",
    "    )\n",
    "    img = da.from_zarr(store)\n",
    "\n",
    "    nchannels = img.shape[1]\n",
    "\n",
    "    # segment the cell\n",
    "    labels = model.eval(\n",
    "        img[:, nuclear_channel].compute().squeeze(),\n",
    "        diameter=30 / resolution_level,\n",
    "        do_3D=False,\n",
    "        anisotropy=3,\n",
    "        min_size=500,\n",
    "        stitch_threshold=0.1,\n",
    "    )[0]\n",
    "\n",
    "    tifffile.imwrite(get_files(dstdir, row, \"labels\"), labels)\n",
    "\n",
    "    # load the regions\n",
    "    rois = load_regions_as_labels(dstdir, row, labels.shape, resolution_level)\n",
    "    \n",
    "    # preprocess the channels    \n",
    "    channels = [k for k in range(nchannels) if k != nuclear_channel]\n",
    "    score = np.stack(\n",
    "        [\n",
    "            preprocess(img[0, k].compute().squeeze().astype(np.float32))\n",
    "            for k in range(nchannels) if k != nuclear_channel\n",
    "        ],\n",
    "        0,\n",
    "    )\n",
    "\n",
    "    df = record_intensity(labels, score, rois, channels)\n",
    "\n",
    "    df.to_csv(get_files(dstdir, row, \"measurements\"), index=False)\n",
    "\n",
    "    return df"
   ]
  },
  {
   "cell_type": "markdown",
   "metadata": {},
   "source": [
    "Process all files"
   ]
  },
  {
   "cell_type": "code",
   "execution_count": 8,
   "metadata": {},
   "outputs": [
    {
     "name": "stdout",
     "output_type": "stream",
     "text": [
      "Unnamed: 0                                                    1\n",
      "folder        /media/cephfs/acourtney/HCR_Octopus_Jerome/Feb...\n",
      "name          2023_12Dec_2a17Dec_F2_Stitched_Cropped_ForAnal...\n",
      "Name: 1, dtype: object\n",
      "Opening readonly file: /media/cephfs/acourtney/HCR_Octopus_Jerome/Febuary2024/2023_12Dec_2a17Dec_F2_Stitched_Cropped_ForAnalysis.ims \n",
      "\n",
      "GET : .zarray\n",
      "Unnamed: 0                                                    3\n",
      "folder        /media/cephfs/acourtney/HCR_Octopus_Jerome/Feb...\n",
      "name          14Aug2023_3b_Slices_F1_Stitched_Cropped_ForAna...\n",
      "Name: 3, dtype: object\n",
      "Opening readonly file: /media/cephfs/acourtney/HCR_Octopus_Jerome/Febuary2024/14Aug2023_3b_Slices_F1_Stitched_Cropped_ForAnalysis.ims \n",
      "\n",
      "GET : .zarray\n",
      "Closing file: /media/cephfs/acourtney/HCR_Octopus_Jerome/Febuary2024/14Aug2023_3b_Slices_F1_Stitched_Cropped_ForAnalysis.ims \n",
      "\n",
      "Closing file: /media/cephfs/acourtney/HCR_Octopus_Jerome/Febuary2024/2023_12Dec_2a17Dec_F2_Stitched_Cropped_ForAnalysis.ims \n",
      "\n"
     ]
    }
   ],
   "source": [
    "from cellpose import models, core\n",
    "\n",
    "model = models.Cellpose(gpu=core.use_gpu(), model_type=\"nuclei\")\n",
    "resolution_level = 1\n",
    "\n",
    "for row in filelist.iloc:\n",
    "    if get_files(dstdir, row, \"measurements\").exists() is False:\n",
    "        if get_files(dstdir, row, \"regions\").exists() is True:\n",
    "            print(row)\n",
    "            process_item(row, resolution_level, model, dstdir)"
   ]
  }
 ],
 "metadata": {
  "kernelspec": {
   "display_name": "imaging",
   "language": "python",
   "name": "python3"
  },
  "language_info": {
   "codemirror_mode": {
    "name": "ipython",
    "version": 3
   },
   "file_extension": ".py",
   "mimetype": "text/x-python",
   "name": "python",
   "nbconvert_exporter": "python",
   "pygments_lexer": "ipython3",
   "version": "3.12.2"
  }
 },
 "nbformat": 4,
 "nbformat_minor": 2
}
