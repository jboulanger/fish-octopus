{
 "cells": [
  {
   "cell_type": "markdown",
   "metadata": {},
   "source": [
    "# Section of region of interest\n",
    "\n",
    "Load the file at a low resolution and add regions of interest."
   ]
  },
  {
   "cell_type": "code",
   "execution_count": null,
   "metadata": {},
   "outputs": [],
   "source": [
    "import yaml\n",
    "from pathlib import Path\n",
    "from ipyfilechooser import FileChooser\n",
    "srcdir, dstdir = '', ''\n",
    "if Path(\"config.yml\").exists():\n",
    "    with open(\"config.yml\", \"r\") as file:    \n",
    "        config = yaml.safe_load(file)\n",
    "        if 'source' in config.keys():\n",
    "            srcdir = Path(config[\"source\"])        \n",
    "        if 'destination' in config.keys():\n",
    "            dstdir = Path(config[\"destination\"]) \n",
    "\n",
    "fc = FileChooser(dstdir, select_desc='destination')\n",
    "display(fc)\n",
    "\n"
   ]
  },
  {
   "cell_type": "markdown",
   "metadata": {},
   "source": [
    "Check the list of files defined at step 1"
   ]
  },
  {
   "cell_type": "code",
   "execution_count": null,
   "metadata": {},
   "outputs": [],
   "source": [
    "import pandas as pd\n",
    "dstdir = Path(fc.selected) if fc.selected is not None else Path(dstdir)\n",
    "filelistname = dstdir / 'filelist.csv'\n",
    "filelist = pd.read_csv(filelistname)\n",
    "filelist"
   ]
  },
  {
   "cell_type": "markdown",
   "metadata": {},
   "source": [
    "Select a file from the list"
   ]
  },
  {
   "cell_type": "code",
   "execution_count": null,
   "metadata": {},
   "outputs": [],
   "source": [
    "import ipywidgets as widgets\n",
    "w = widgets.Dropdown(\n",
    "    options=[(x,k) for k,x in enumerate(filelist['name'])],\n",
    "    value=1,\n",
    "    description='Image:',\n",
    ")\n",
    "display(w)"
   ]
  },
  {
   "cell_type": "markdown",
   "metadata": {},
   "source": [
    "Load the selected file and update config.yml"
   ]
  },
  {
   "cell_type": "code",
   "execution_count": null,
   "metadata": {},
   "outputs": [],
   "source": [
    "def get_files(dstdir, row, key=None):\n",
    "    if key == 'ims':\n",
    "        return Path(row['folder']) / row['name']\n",
    "    elif key == 'regions':\n",
    "        return Path(dstdir / str(row[\"name\"]).replace('.ims','-regions.json'))\n",
    "    elif key == 'labels':\n",
    "        return Path(dstdir / str(row['name']).replace('.ims','-labels.tif'))\n",
    "    elif key == 'measurements':\n",
    "        return Path(dstdir / str(row['name']).replace('.ims','-measurements.csv'))    \n",
    "    else:\n",
    "        return {\n",
    "            'ims': get_files(dstdir, row, 'ims'),\n",
    "            'regions': get_files(dstdir, row, 'regions'),\n",
    "            'labels': get_files(dstdir, row, 'labels'),\n",
    "            'measurements':  get_files(dstdir, row, 'measurements')\n",
    "        }\n",
    "    \n",
    "row = filelist.iloc[w.value]\n",
    "filename = get_files(dstdir, row, 'ims')\n",
    "regionname = get_files(dstdir, row, 'regions')\n",
    "print(\"Input IMS filename:\", filename)\n",
    "print(\"Destination:\", dstdir)\n",
    "print(\"Output region file:\", regionname)\n",
    "# update yaml config file\n",
    "try:\n",
    "    cnf = yaml.safe_load(f'source: \\\"{srcdir.as_posix()}\\\"\\ndestination: \\\"{dstdir.as_posix()}\\\"\\n')\n",
    "    with open('config.yml', 'w') as file:\n",
    "        yaml.dump(cnf, file)\n",
    "except:\n",
    "    pass\n"
   ]
  },
  {
   "cell_type": "markdown",
   "metadata": {},
   "source": [
    "Load the file from disk, change the resolution level if needed"
   ]
  },
  {
   "cell_type": "code",
   "execution_count": null,
   "metadata": {},
   "outputs": [],
   "source": [
    "from imaris_ims_file_reader.ims import ims\n",
    "import dask.array as da\n",
    "\n",
    "resolution_level = 1\n",
    "\n",
    "store = ims(filename, ResolutionLevelLock=resolution_level, aszarr=True)\n",
    "\n",
    "img = da.from_zarr(store)\n",
    "nuclei = da.max(img[0,3],0).compute().squeeze()\n",
    "print(nuclei.shape)"
   ]
  },
  {
   "cell_type": "markdown",
   "metadata": {},
   "source": [
    "Load the file in napari and add some regions. If there are existing regions, load the regions as shapes."
   ]
  },
  {
   "cell_type": "code",
   "execution_count": null,
   "metadata": {},
   "outputs": [],
   "source": [
    "import json\n",
    "import numpy as np\n",
    "import napari\n",
    "\n",
    "v = napari.view_image(nuclei)\n",
    "if regionname.exists():\n",
    "    with open(regionname, \"r\") as outfile:\n",
    "        poly = json.load(outfile)\n",
    "    c = pow(2, poly['resolution_level']- resolution_level)    \n",
    "    sdata = [c * np.array(p) for p in poly['regions']]\n",
    "    v.add_shapes(sdata,shape_type='polygon')\n"
   ]
  },
  {
   "cell_type": "markdown",
   "metadata": {},
   "source": [
    "Export the region to a json file"
   ]
  },
  {
   "cell_type": "code",
   "execution_count": null,
   "metadata": {},
   "outputs": [],
   "source": [
    "import json\n",
    "poly = {\n",
    "    'shape': nuclei.shape,\n",
    "    'resolution_level': resolution_level,\n",
    "    'regions': [ p.tolist() for p in v.layers[-1].data ] \n",
    "}\n",
    "\n",
    "with open(regionname, \"w\") as outfile:\n",
    "    json.dump(poly, outfile)"
   ]
  },
  {
   "cell_type": "markdown",
   "metadata": {},
   "source": [
    "Reload the regions to check for correctness"
   ]
  },
  {
   "cell_type": "code",
   "execution_count": null,
   "metadata": {},
   "outputs": [],
   "source": [
    "import matplotlib.pyplot as plt\n",
    "\n",
    "with open(regionname, \"r\") as outfile:\n",
    "    poly2 = json.load(outfile)\n",
    "\n",
    "rois = napari.layers.Shapes(poly2['regions'],shape_type='polygon').to_labels(labels_shape=poly2['shape'])\n",
    "plt.imshow(nuclei)\n",
    "plt.imshow(rois,alpha=0.5)\n",
    "plt.axis('off');"
   ]
  }
 ],
 "metadata": {
  "language_info": {
   "name": "python",
   "pygments_lexer": "ipython3"
  }
 },
 "nbformat": 4,
 "nbformat_minor": 2
}
