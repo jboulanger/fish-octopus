{
 "cells": [
  {
   "cell_type": "markdown",
   "metadata": {},
   "source": [
    "# Processing FISH images"
   ]
  },
  {
   "cell_type": "code",
   "execution_count": 1,
   "metadata": {},
   "outputs": [
    {
     "data": {
      "application/vnd.jupyter.widget-view+json": {
       "model_id": "4c713de5a76d48e8baa0a0be9ccdabd3",
       "version_major": 2,
       "version_minor": 0
      },
      "text/plain": [
       "FileChooser(path='/home/jeromeb/work/code/octopus', filename='', title='', show_hidden=False, select_desc='Sel…"
      ]
     },
     "metadata": {},
     "output_type": "display_data"
    }
   ],
   "source": [
    "from pathlib import Path\n",
    "from ipyfilechooser import FileChooser\n",
    "fc = FileChooser()\n",
    "display(fc)\n"
   ]
  },
  {
   "cell_type": "code",
   "execution_count": null,
   "metadata": {},
   "outputs": [],
   "source": [
    "path = Path(fc.selected)\n",
    "folder = path.parent\n",
    "destdir = Path('./')\n",
    "#destdir = folder\n",
    "filename = path.name"
   ]
  },
  {
   "cell_type": "code",
   "execution_count": 4,
   "metadata": {},
   "outputs": [],
   "source": [
    "srcdir = Path('/run/user/1000/gvfs/smb-share:server=cephfs2,share=users/acourtney/HCR_Octopus_Jerome/Febuary2024/')\n",
    "filename = '14Aug2023_3b_Slices_F1_Stitched_Cropped_ForAnalysis.ims'\n",
    "destdir = Path('./')\n"
   ]
  },
  {
   "cell_type": "code",
   "execution_count": null,
   "metadata": {},
   "outputs": [],
   "source": []
  },
  {
   "cell_type": "code",
   "execution_count": 79,
   "metadata": {},
   "outputs": [
    {
     "name": "stdout",
     "output_type": "stream",
     "text": [
      "cached file /home/jeromeb/.cellpose/models/nucleitorch_0\n",
      "url :https://www.cellpose.org/models/nucleitorch_0\n",
      "cached file /home/jeromeb/.cellpose/models/size_nucleitorch_0.npy\n",
      "url :https://www.cellpose.org/models/size_nucleitorch_0.npy\n"
     ]
    }
   ],
   "source": [
    "import numpy as np\n",
    "import dask.array as da\n",
    "from skimage import measure\n",
    "import pandas as pd\n",
    "import json\n",
    "from imaris_ims_file_reader.ims import ims\n",
    "import tifffile\n",
    "import napari\n",
    "from cellpose import models, core\n",
    "from scipy import ndimage as ndi\n",
    "\n",
    "model = models.Cellpose(gpu=core.use_gpu(), model_type=\"nuclei\")\n",
    "\n",
    "resolution_level = 3 \n"
   ]
  },
  {
   "cell_type": "code",
   "execution_count": 78,
   "metadata": {},
   "outputs": [],
   "source": [
    "filelist = pd.DataFrame({'folder': [p.parent for p in folder.glob('*.ims')],'name': [p.name for p in folder.glob('*.ims')]})\n",
    "filelist.to_csv(destdir/'filelist.csv')"
   ]
  },
  {
   "cell_type": "code",
   "execution_count": null,
   "metadata": {},
   "outputs": [],
   "source": []
  },
  {
   "cell_type": "code",
   "execution_count": 81,
   "metadata": {},
   "outputs": [],
   "source": [
    "def load_regions_as_labels(row, destdir, shape):\n",
    "   \n",
    "    with open(destdir/f'{path.stem}-regions.json', \"r\") as outfile:\n",
    "        poly = json.load(outfile)\n",
    "    \n",
    "    c = resolution_level / poly['resolution_level']    \n",
    "    sdata = [c * np.array(p) for p in poly['regions']]\n",
    "    rois2d = napari.layers.Shapes(sdata, shape_type='polygon').to_labels(labels_shape=[shape[1],shape[2]])\n",
    "    rois = np.zeros(shape)\n",
    "    for k in range(shape):\n",
    "        rois[k,0:rois2d.shape[0],0:rois2d.shape[1]] = rois2d\n",
    "    return rois\n",
    "\n",
    "def preprocess(img):\n",
    "    d = ndi.gaussian_filter(img,1) - ndi.gaussian_filter(img,3)    \n",
    "    t = 2 * 1.48 * np.median(np.abs(d - np.median(d)))\n",
    "    return np.maximum(0, d - t)\n",
    "\n",
    "def process_item(row, resolution_level, model, dstdir):    \n",
    "    \"\"\"Process a line of the input filelist\n",
    "    Segment the nuclei and measure the FISH signal\n",
    "    \"\"\"\n",
    "    # load the image\n",
    "    store = ims(folder / filename, ResolutionLevelLock=resolution_level, aszarr=True)\n",
    "    img = da.from_zarr(store)\n",
    "    shape = img.shape\n",
    "\n",
    "    # segment the cell\n",
    "    labels = model.eval(\n",
    "            img[:,3].compute().squeeze(),\n",
    "            diameter=30/resolution_level,\n",
    "            do_3D=False,\n",
    "            anisotropy=3,        \n",
    "            min_size=500,\n",
    "            stitch_threshold=0.1,        \n",
    "        )[0]\n",
    "    tifffile.imwrite(dstdir / row['name'].replace('.ims','-labels.tif'), labels)\n",
    "\n",
    "    # load the regions\n",
    "    rois = load_regions_as_labels(row, destdir, shape)\n",
    "    \n",
    "    score = np.stack([preprocess(img[0,k].compute().squeeze().astype(np.float32)) for k in range(3)],-1)\n",
    "    \n",
    "    props1 = measure.regionprops(labels, score)\n",
    "    props2 = measure.regionprops(labels, rois)\n",
    "    import pandas as pd\n",
    "    df = pd.DataFrame([ {\n",
    "        'label': p.label,\n",
    "        'ch1': p.intensity_mean[0] * p.area,\n",
    "        'ch2': p.intensity_mean[1] * p.area,\n",
    "        'ch3': p.intensity_mean[2] * p.area,\n",
    "        'x': p.centroid[2],\n",
    "        'y': p.centroid[1],\n",
    "        'z': p.centroid[0],\n",
    "        'roi': int(q.intensity_min),\n",
    "        } for p, q in zip(props1, props2)])\n",
    "\n",
    "    df.to_csv(dstdir / row['name'].replace('.ims','-measurements.csv'))\n",
    "\n",
    "    return df"
   ]
  },
  {
   "cell_type": "code",
   "execution_count": null,
   "metadata": {},
   "outputs": [],
   "source": [
    "for row in filelist.iloc:\n",
    "    process_item(row, resolution_level, model, destdir)"
   ]
  }
 ],
 "metadata": {
  "kernelspec": {
   "display_name": "imaging",
   "language": "python",
   "name": "python3"
  },
  "language_info": {
   "codemirror_mode": {
    "name": "ipython",
    "version": 3
   },
   "file_extension": ".py",
   "mimetype": "text/x-python",
   "name": "python",
   "nbconvert_exporter": "python",
   "pygments_lexer": "ipython3",
   "version": "3.9.16"
  }
 },
 "nbformat": 4,
 "nbformat_minor": 2
}
