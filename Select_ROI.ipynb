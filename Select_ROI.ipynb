{
 "cells": [
  {
   "cell_type": "markdown",
   "metadata": {},
   "source": [
    "# Section of region of interest\n",
    "\n",
    "Load the file at a low resolution and add regions of interest."
   ]
  },
  {
   "cell_type": "markdown",
   "metadata": {},
   "source": [
    "### File selection\n",
    "Select an image to annotate\n"
   ]
  },
  {
   "cell_type": "code",
   "execution_count": null,
   "metadata": {},
   "outputs": [],
   "source": [
    "from pathlib import Path\n",
    "from ipyfilechooser import FileChooser\n",
    "fc = FileChooser()\n",
    "display(fc)"
   ]
  },
  {
   "cell_type": "markdown",
   "metadata": {},
   "source": [
    "Load the file from disk"
   ]
  },
  {
   "cell_type": "code",
   "execution_count": null,
   "metadata": {},
   "outputs": [],
   "source": [
    "from imaris_ims_file_reader.ims import ims\n",
    "import dask.array as da\n",
    "\n",
    "path = Path(fc.selected)\n",
    "folder = path.parent\n",
    "destdir = Path('./')\n",
    "#destdir = folder\n",
    "filename = path.name\n",
    "\n",
    "resolution_level = 3 \n",
    "\n",
    "store = ims(folder / filename, ResolutionLevelLock=resolution_level, aszarr=True)\n",
    "\n",
    "img = da.from_zarr(store)\n",
    "nuclei = da.max(img[0,3],0).compute().squeeze()"
   ]
  },
  {
   "cell_type": "markdown",
   "metadata": {},
   "source": [
    "Load the file in napari and add some regions"
   ]
  },
  {
   "cell_type": "code",
   "execution_count": null,
   "metadata": {},
   "outputs": [],
   "source": [
    "import napari\n",
    "v = napari.view_image(nuclei)"
   ]
  },
  {
   "cell_type": "markdown",
   "metadata": {},
   "source": [
    "Export the region"
   ]
  },
  {
   "cell_type": "code",
   "execution_count": null,
   "metadata": {},
   "outputs": [],
   "source": [
    "import json\n",
    "poly = {\n",
    "    'shape': nuclei.shape,\n",
    "    'resolution_level': resolution_level,\n",
    "    'regions': [ p.tolist() for p in v.layers[-1].data ] \n",
    "}\n",
    "\n",
    "with open(destdir/f'{path.stem}-regions.json', \"w\") as outfile:\n",
    "    json.dump(poly, outfile)"
   ]
  },
  {
   "cell_type": "markdown",
   "metadata": {},
   "source": [
    "Reload the regions"
   ]
  },
  {
   "cell_type": "code",
   "execution_count": null,
   "metadata": {},
   "outputs": [],
   "source": [
    "\n",
    "with open(destdir/f'{path.stem}-regions.json', \"r\") as outfile:\n",
    "    poly2 = json.load(outfile)\n",
    "\n",
    "rois = napari.layers.Shapes(poly2['regions'],shape_type='polygon').to_labels(labels_shape=poly2['shape'])\n"
   ]
  },
  {
   "cell_type": "code",
   "execution_count": null,
   "metadata": {},
   "outputs": [],
   "source": [
    "import matplotlib.pyplot as plt\n",
    "plt.imshow(nuclei)\n",
    "plt.imshow(rois,alpha=0.5)\n",
    "plt.axis('off');"
   ]
  }
 ],
 "metadata": {
  "kernelspec": {
   "display_name": "imaging",
   "language": "python",
   "name": "python3"
  },
  "language_info": {
   "codemirror_mode": {
    "name": "ipython",
    "version": 3
   },
   "file_extension": ".py",
   "mimetype": "text/x-python",
   "name": "python",
   "nbconvert_exporter": "python",
   "pygments_lexer": "ipython3",
   "version": "3.9.16"
  }
 },
 "nbformat": 4,
 "nbformat_minor": 2
}
