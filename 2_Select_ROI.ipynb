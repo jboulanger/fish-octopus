{
 "cells": [
  {
   "cell_type": "markdown",
   "metadata": {},
   "source": [
    "# Section of region of interest\n",
    "\n",
    "In this notebook, we create the regions of interest where nuclei will be segregated into later.\n",
    "\n",
    "We start to load the file at a low resolution and create regions layers in napari.\n"
   ]
  },
  {
   "cell_type": "code",
   "execution_count": null,
   "metadata": {},
   "outputs": [],
   "source": [
    "%load_ext autoreload\n",
    "%autoreload 2"
   ]
  },
  {
   "cell_type": "code",
   "execution_count": null,
   "metadata": {},
   "outputs": [],
   "source": [
    "import octofish\n",
    "import yaml\n",
    "from pathlib import Path\n",
    "from ipyfilechooser import FileChooser\n",
    "srcdir, dstdir = '', ''\n",
    "if Path(\"config.yml\").exists():\n",
    "    with open(\"config.yml\", \"r\") as file:    \n",
    "        config = yaml.safe_load(file)\n",
    "        if 'source' in config.keys():\n",
    "            srcdir = Path(config[\"source\"])        \n",
    "        if 'destination' in config.keys():\n",
    "            dstdir = Path(config[\"destination\"]) \n",
    "\n",
    "fc = FileChooser(dstdir, select_desc='destination')\n",
    "display(fc)\n",
    "\n"
   ]
  },
  {
   "cell_type": "markdown",
   "metadata": {},
   "source": [
    "Check the list of files defined at step 1"
   ]
  },
  {
   "cell_type": "code",
   "execution_count": null,
   "metadata": {},
   "outputs": [],
   "source": [
    "import pandas as pd\n",
    "dstdir = Path(fc.selected) if fc.selected is not None else Path(dstdir)\n",
    "filelistname = dstdir / 'filelist.csv'\n",
    "filelist = pd.read_csv(filelistname)\n",
    "filelist"
   ]
  },
  {
   "cell_type": "markdown",
   "metadata": {},
   "source": [
    "Select a file from the list if necessary."
   ]
  },
  {
   "cell_type": "code",
   "execution_count": null,
   "metadata": {},
   "outputs": [],
   "source": [
    "import ipywidgets as widgets\n",
    "if len(filelist) == 1:\n",
    "    print(\"Filelist has only one item.\")\n",
    "    w = None\n",
    "else:\n",
    "    w = widgets.Dropdown(\n",
    "        options=[(x,k) for k,x in enumerate(filelist['name'])],\n",
    "        value=1,\n",
    "        description='Image:',\n",
    "    )\n",
    "    display(w)"
   ]
  },
  {
   "cell_type": "markdown",
   "metadata": {},
   "source": [
    "Load the selected file and update config.yml"
   ]
  },
  {
   "cell_type": "code",
   "execution_count": null,
   "metadata": {},
   "outputs": [],
   "source": [
    "row = filelist.iloc[w.value] if w is not None  else filelist.iloc[0]\n",
    "filename = octofish.get_files(dstdir, row, 'ims')\n",
    "regionname = octofish.get_files(dstdir, row, 'regions')\n",
    "print(\"Input IMS filename:\", filename)\n",
    "print(\"Destination:\", dstdir)\n",
    "print(\"Output region file:\", regionname)\n",
    "# update yaml config file\n",
    "try:\n",
    "    cnf = yaml.safe_load(f'source: \\\"{srcdir.as_posix()}\\\"\\ndestination: \\\"{dstdir.as_posix()}\\\"\\n')\n",
    "    with open('config.yml', 'w') as file:\n",
    "        yaml.dump(cnf, file)\n",
    "except:\n",
    "    pass\n"
   ]
  },
  {
   "cell_type": "markdown",
   "metadata": {},
   "source": [
    "Load the file from disk, change the resolution level if needed"
   ]
  },
  {
   "cell_type": "code",
   "execution_count": null,
   "metadata": {},
   "outputs": [],
   "source": [
    "resolution_level = 1\n",
    "nuclei = octofish.load_nuclei_channel_2d(dstdir, row, resolution_level)"
   ]
  },
  {
   "cell_type": "markdown",
   "metadata": {},
   "source": [
    "Load the file in napari and add manually some regions. \n",
    "\n",
    "If there are existing regions, load the regions as shapes."
   ]
  },
  {
   "cell_type": "code",
   "execution_count": null,
   "metadata": {},
   "outputs": [],
   "source": [
    "\n",
    "import napari\n",
    "\n",
    "v = napari.view_image(nuclei)\n",
    "\n",
    "rois = octofish.load_region_polygons(dstdir, row, resolution_level)\n",
    "if rois is not None:\n",
    "    v.add_shapes(rois, shape_type='polygon')\n"
   ]
  },
  {
   "cell_type": "markdown",
   "metadata": {},
   "source": [
    "Export the region to a json file"
   ]
  },
  {
   "cell_type": "code",
   "execution_count": null,
   "metadata": {},
   "outputs": [],
   "source": [
    "octofish.save_regions(dstdir, row, resolution_level, v.layers[-1].data )"
   ]
  },
  {
   "cell_type": "markdown",
   "metadata": {},
   "source": [
    "Reload the regions to check for correctness"
   ]
  },
  {
   "cell_type": "code",
   "execution_count": null,
   "metadata": {},
   "outputs": [],
   "source": [
    "import matplotlib.pyplot as plt\n",
    "rois = octofish.load_regions_as_labels(dstdir, row, nuclei.shape, resolution_level)\n",
    "plt.imshow(nuclei)\n",
    "plt.imshow(rois, alpha=0.5)\n",
    "plt.axis('off');"
   ]
  }
 ],
 "metadata": {
  "language_info": {
   "name": "python",
   "pygments_lexer": "ipython3"
  }
 },
 "nbformat": 4,
 "nbformat_minor": 2
}
